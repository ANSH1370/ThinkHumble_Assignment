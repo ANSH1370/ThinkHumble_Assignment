{
 "cells": [
  {
   "cell_type": "code",
   "execution_count": 1,
   "id": "e0b938d8",
   "metadata": {},
   "outputs": [],
   "source": [
    "import pandas as pd\n",
    "import numpy as np\n",
    "import seaborn as sns\n",
    "import matplotlib.pyplot as plt"
   ]
  },
  {
   "cell_type": "code",
   "execution_count": 3,
   "id": "5732ef13",
   "metadata": {},
   "outputs": [],
   "source": [
    "data = pd.read_csv('Cleaned_Customer.csv')"
   ]
  },
  {
   "cell_type": "code",
   "execution_count": 7,
   "id": "b4058644",
   "metadata": {},
   "outputs": [
    {
     "data": {
      "text/html": [
       "<div>\n",
       "<style scoped>\n",
       "    .dataframe tbody tr th:only-of-type {\n",
       "        vertical-align: middle;\n",
       "    }\n",
       "\n",
       "    .dataframe tbody tr th {\n",
       "        vertical-align: top;\n",
       "    }\n",
       "\n",
       "    .dataframe thead th {\n",
       "        text-align: right;\n",
       "    }\n",
       "</style>\n",
       "<table border=\"1\" class=\"dataframe\">\n",
       "  <thead>\n",
       "    <tr style=\"text-align: right;\">\n",
       "      <th></th>\n",
       "      <th>Unnamed: 0</th>\n",
       "      <th>CustomerID</th>\n",
       "      <th>Age</th>\n",
       "      <th>Gender</th>\n",
       "      <th>ContractType</th>\n",
       "      <th>MonthlyCharges</th>\n",
       "      <th>TotalCharges</th>\n",
       "      <th>TechSupport</th>\n",
       "      <th>InternetService</th>\n",
       "      <th>Tenure</th>\n",
       "      <th>PaperlessBilling</th>\n",
       "      <th>PaymentMethod</th>\n",
       "      <th>Churn</th>\n",
       "    </tr>\n",
       "  </thead>\n",
       "  <tbody>\n",
       "    <tr>\n",
       "      <th>0</th>\n",
       "      <td>0</td>\n",
       "      <td>1083</td>\n",
       "      <td>79.0</td>\n",
       "      <td>Male</td>\n",
       "      <td>One year</td>\n",
       "      <td>90.038513</td>\n",
       "      <td>3511.502019</td>\n",
       "      <td>No</td>\n",
       "      <td>No</td>\n",
       "      <td>39</td>\n",
       "      <td>No</td>\n",
       "      <td>Electronic check</td>\n",
       "      <td>Yes</td>\n",
       "    </tr>\n",
       "    <tr>\n",
       "      <th>1</th>\n",
       "      <td>1</td>\n",
       "      <td>1117</td>\n",
       "      <td>60.0</td>\n",
       "      <td>Female</td>\n",
       "      <td>One year</td>\n",
       "      <td>80.590894</td>\n",
       "      <td>2901.272196</td>\n",
       "      <td>No</td>\n",
       "      <td>Fiber optic</td>\n",
       "      <td>36</td>\n",
       "      <td>No</td>\n",
       "      <td>Bank transfer</td>\n",
       "      <td>Yes</td>\n",
       "    </tr>\n",
       "    <tr>\n",
       "      <th>2</th>\n",
       "      <td>2</td>\n",
       "      <td>437</td>\n",
       "      <td>53.0</td>\n",
       "      <td>Female</td>\n",
       "      <td>Two year</td>\n",
       "      <td>98.695968</td>\n",
       "      <td>6513.933908</td>\n",
       "      <td>Yes</td>\n",
       "      <td>No</td>\n",
       "      <td>66</td>\n",
       "      <td>Yes</td>\n",
       "      <td>Bank transfer</td>\n",
       "      <td>No</td>\n",
       "    </tr>\n",
       "    <tr>\n",
       "      <th>3</th>\n",
       "      <td>3</td>\n",
       "      <td>3833</td>\n",
       "      <td>84.0</td>\n",
       "      <td>Female</td>\n",
       "      <td>One year</td>\n",
       "      <td>43.042067</td>\n",
       "      <td>1549.514395</td>\n",
       "      <td>No</td>\n",
       "      <td>No</td>\n",
       "      <td>36</td>\n",
       "      <td>No</td>\n",
       "      <td>Mailed check</td>\n",
       "      <td>Yes</td>\n",
       "    </tr>\n",
       "    <tr>\n",
       "      <th>4</th>\n",
       "      <td>4</td>\n",
       "      <td>1976</td>\n",
       "      <td>69.0</td>\n",
       "      <td>Male</td>\n",
       "      <td>One year</td>\n",
       "      <td>51.930032</td>\n",
       "      <td>2232.991377</td>\n",
       "      <td>No</td>\n",
       "      <td>No</td>\n",
       "      <td>43</td>\n",
       "      <td>No</td>\n",
       "      <td>Credit card</td>\n",
       "      <td>No</td>\n",
       "    </tr>\n",
       "    <tr>\n",
       "      <th>...</th>\n",
       "      <td>...</td>\n",
       "      <td>...</td>\n",
       "      <td>...</td>\n",
       "      <td>...</td>\n",
       "      <td>...</td>\n",
       "      <td>...</td>\n",
       "      <td>...</td>\n",
       "      <td>...</td>\n",
       "      <td>...</td>\n",
       "      <td>...</td>\n",
       "      <td>...</td>\n",
       "      <td>...</td>\n",
       "      <td>...</td>\n",
       "    </tr>\n",
       "    <tr>\n",
       "      <th>4646</th>\n",
       "      <td>5015</td>\n",
       "      <td>1514</td>\n",
       "      <td>54.0</td>\n",
       "      <td>Male</td>\n",
       "      <td>One year</td>\n",
       "      <td>57.803077</td>\n",
       "      <td>462.424613</td>\n",
       "      <td>No</td>\n",
       "      <td>DSL</td>\n",
       "      <td>8</td>\n",
       "      <td>Yes</td>\n",
       "      <td>Bank transfer</td>\n",
       "      <td>No</td>\n",
       "    </tr>\n",
       "    <tr>\n",
       "      <th>4647</th>\n",
       "      <td>5016</td>\n",
       "      <td>2716</td>\n",
       "      <td>45.0</td>\n",
       "      <td>Male</td>\n",
       "      <td>Two year</td>\n",
       "      <td>103.314530</td>\n",
       "      <td>826.516243</td>\n",
       "      <td>No</td>\n",
       "      <td>DSL</td>\n",
       "      <td>8</td>\n",
       "      <td>No</td>\n",
       "      <td>Credit card</td>\n",
       "      <td>No</td>\n",
       "    </tr>\n",
       "    <tr>\n",
       "      <th>4648</th>\n",
       "      <td>5017</td>\n",
       "      <td>756</td>\n",
       "      <td>21.0</td>\n",
       "      <td>Female</td>\n",
       "      <td>Two year</td>\n",
       "      <td>103.105344</td>\n",
       "      <td>103.105344</td>\n",
       "      <td>Yes</td>\n",
       "      <td>Fiber optic</td>\n",
       "      <td>1</td>\n",
       "      <td>Yes</td>\n",
       "      <td>Electronic check</td>\n",
       "      <td>Yes</td>\n",
       "    </tr>\n",
       "    <tr>\n",
       "      <th>4649</th>\n",
       "      <td>5018</td>\n",
       "      <td>3284</td>\n",
       "      <td>85.0</td>\n",
       "      <td>Male</td>\n",
       "      <td>Two year</td>\n",
       "      <td>36.907180</td>\n",
       "      <td>1660.823112</td>\n",
       "      <td>Yes</td>\n",
       "      <td>Fiber optic</td>\n",
       "      <td>45</td>\n",
       "      <td>Yes</td>\n",
       "      <td>Credit card</td>\n",
       "      <td>Yes</td>\n",
       "    </tr>\n",
       "    <tr>\n",
       "      <th>4650</th>\n",
       "      <td>5019</td>\n",
       "      <td>96</td>\n",
       "      <td>65.0</td>\n",
       "      <td>Female</td>\n",
       "      <td>One year</td>\n",
       "      <td>98.243941</td>\n",
       "      <td>6582.344044</td>\n",
       "      <td>No</td>\n",
       "      <td>DSL</td>\n",
       "      <td>67</td>\n",
       "      <td>Yes</td>\n",
       "      <td>Credit card</td>\n",
       "      <td>No</td>\n",
       "    </tr>\n",
       "  </tbody>\n",
       "</table>\n",
       "<p>4651 rows × 13 columns</p>\n",
       "</div>"
      ],
      "text/plain": [
       "      Unnamed: 0  CustomerID   Age  Gender ContractType  MonthlyCharges  \\\n",
       "0              0        1083  79.0    Male     One year       90.038513   \n",
       "1              1        1117  60.0  Female     One year       80.590894   \n",
       "2              2         437  53.0  Female     Two year       98.695968   \n",
       "3              3        3833  84.0  Female     One year       43.042067   \n",
       "4              4        1976  69.0    Male     One year       51.930032   \n",
       "...          ...         ...   ...     ...          ...             ...   \n",
       "4646        5015        1514  54.0    Male     One year       57.803077   \n",
       "4647        5016        2716  45.0    Male     Two year      103.314530   \n",
       "4648        5017         756  21.0  Female     Two year      103.105344   \n",
       "4649        5018        3284  85.0    Male     Two year       36.907180   \n",
       "4650        5019          96  65.0  Female     One year       98.243941   \n",
       "\n",
       "      TotalCharges TechSupport InternetService  Tenure PaperlessBilling  \\\n",
       "0      3511.502019          No              No      39               No   \n",
       "1      2901.272196          No     Fiber optic      36               No   \n",
       "2      6513.933908         Yes              No      66              Yes   \n",
       "3      1549.514395          No              No      36               No   \n",
       "4      2232.991377          No              No      43               No   \n",
       "...            ...         ...             ...     ...              ...   \n",
       "4646    462.424613          No             DSL       8              Yes   \n",
       "4647    826.516243          No             DSL       8               No   \n",
       "4648    103.105344         Yes     Fiber optic       1              Yes   \n",
       "4649   1660.823112         Yes     Fiber optic      45              Yes   \n",
       "4650   6582.344044          No             DSL      67              Yes   \n",
       "\n",
       "         PaymentMethod Churn  \n",
       "0     Electronic check   Yes  \n",
       "1        Bank transfer   Yes  \n",
       "2        Bank transfer    No  \n",
       "3         Mailed check   Yes  \n",
       "4          Credit card    No  \n",
       "...                ...   ...  \n",
       "4646     Bank transfer    No  \n",
       "4647       Credit card    No  \n",
       "4648  Electronic check   Yes  \n",
       "4649       Credit card   Yes  \n",
       "4650       Credit card    No  \n",
       "\n",
       "[4651 rows x 13 columns]"
      ]
     },
     "execution_count": 7,
     "metadata": {},
     "output_type": "execute_result"
    }
   ],
   "source": [
    "data"
   ]
  },
  {
   "cell_type": "code",
   "execution_count": 9,
   "id": "eb129ccd",
   "metadata": {},
   "outputs": [],
   "source": [
    "data.drop(columns=['Unnamed: 0'],inplace=True)"
   ]
  },
  {
   "cell_type": "code",
   "execution_count": 11,
   "id": "8e707739",
   "metadata": {
    "scrolled": true
   },
   "outputs": [
    {
     "data": {
      "text/html": [
       "<div>\n",
       "<style scoped>\n",
       "    .dataframe tbody tr th:only-of-type {\n",
       "        vertical-align: middle;\n",
       "    }\n",
       "\n",
       "    .dataframe tbody tr th {\n",
       "        vertical-align: top;\n",
       "    }\n",
       "\n",
       "    .dataframe thead th {\n",
       "        text-align: right;\n",
       "    }\n",
       "</style>\n",
       "<table border=\"1\" class=\"dataframe\">\n",
       "  <thead>\n",
       "    <tr style=\"text-align: right;\">\n",
       "      <th></th>\n",
       "      <th>CustomerID</th>\n",
       "      <th>Age</th>\n",
       "      <th>Gender</th>\n",
       "      <th>ContractType</th>\n",
       "      <th>MonthlyCharges</th>\n",
       "      <th>TotalCharges</th>\n",
       "      <th>TechSupport</th>\n",
       "      <th>InternetService</th>\n",
       "      <th>Tenure</th>\n",
       "      <th>PaperlessBilling</th>\n",
       "      <th>PaymentMethod</th>\n",
       "      <th>Churn</th>\n",
       "    </tr>\n",
       "  </thead>\n",
       "  <tbody>\n",
       "    <tr>\n",
       "      <th>3823</th>\n",
       "      <td>769</td>\n",
       "      <td>43.0</td>\n",
       "      <td>Male</td>\n",
       "      <td>Two year</td>\n",
       "      <td>71.425428</td>\n",
       "      <td>3285.569684</td>\n",
       "      <td>Yes</td>\n",
       "      <td>Fiber optic</td>\n",
       "      <td>46</td>\n",
       "      <td>No</td>\n",
       "      <td>Bank transfer</td>\n",
       "      <td>Yes</td>\n",
       "    </tr>\n",
       "    <tr>\n",
       "      <th>1698</th>\n",
       "      <td>236</td>\n",
       "      <td>85.0</td>\n",
       "      <td>Male</td>\n",
       "      <td>Two year</td>\n",
       "      <td>85.809256</td>\n",
       "      <td>1630.375866</td>\n",
       "      <td>No</td>\n",
       "      <td>No</td>\n",
       "      <td>19</td>\n",
       "      <td>Yes</td>\n",
       "      <td>Credit card</td>\n",
       "      <td>No</td>\n",
       "    </tr>\n",
       "    <tr>\n",
       "      <th>1116</th>\n",
       "      <td>2159</td>\n",
       "      <td>44.0</td>\n",
       "      <td>Male</td>\n",
       "      <td>Month-to-month</td>\n",
       "      <td>106.302596</td>\n",
       "      <td>4252.103844</td>\n",
       "      <td>Yes</td>\n",
       "      <td>DSL</td>\n",
       "      <td>40</td>\n",
       "      <td>No</td>\n",
       "      <td>Credit card</td>\n",
       "      <td>No</td>\n",
       "    </tr>\n",
       "    <tr>\n",
       "      <th>250</th>\n",
       "      <td>997</td>\n",
       "      <td>51.0</td>\n",
       "      <td>Female</td>\n",
       "      <td>Two year</td>\n",
       "      <td>108.922689</td>\n",
       "      <td>2940.912607</td>\n",
       "      <td>Yes</td>\n",
       "      <td>No</td>\n",
       "      <td>27</td>\n",
       "      <td>No</td>\n",
       "      <td>Electronic check</td>\n",
       "      <td>No</td>\n",
       "    </tr>\n",
       "    <tr>\n",
       "      <th>2864</th>\n",
       "      <td>1666</td>\n",
       "      <td>58.0</td>\n",
       "      <td>Male</td>\n",
       "      <td>One year</td>\n",
       "      <td>100.211645</td>\n",
       "      <td>400.846579</td>\n",
       "      <td>Yes</td>\n",
       "      <td>Fiber optic</td>\n",
       "      <td>4</td>\n",
       "      <td>No</td>\n",
       "      <td>Electronic check</td>\n",
       "      <td>Yes</td>\n",
       "    </tr>\n",
       "  </tbody>\n",
       "</table>\n",
       "</div>"
      ],
      "text/plain": [
       "      CustomerID   Age  Gender    ContractType  MonthlyCharges  TotalCharges  \\\n",
       "3823         769  43.0    Male        Two year       71.425428   3285.569684   \n",
       "1698         236  85.0    Male        Two year       85.809256   1630.375866   \n",
       "1116        2159  44.0    Male  Month-to-month      106.302596   4252.103844   \n",
       "250          997  51.0  Female        Two year      108.922689   2940.912607   \n",
       "2864        1666  58.0    Male        One year      100.211645    400.846579   \n",
       "\n",
       "     TechSupport InternetService  Tenure PaperlessBilling     PaymentMethod  \\\n",
       "3823         Yes     Fiber optic      46               No     Bank transfer   \n",
       "1698          No              No      19              Yes       Credit card   \n",
       "1116         Yes             DSL      40               No       Credit card   \n",
       "250          Yes              No      27               No  Electronic check   \n",
       "2864         Yes     Fiber optic       4               No  Electronic check   \n",
       "\n",
       "     Churn  \n",
       "3823   Yes  \n",
       "1698    No  \n",
       "1116    No  \n",
       "250     No  \n",
       "2864   Yes  "
      ]
     },
     "execution_count": 11,
     "metadata": {},
     "output_type": "execute_result"
    }
   ],
   "source": [
    "data.sample(5)"
   ]
  },
  {
   "cell_type": "code",
   "execution_count": 13,
   "id": "10af0570",
   "metadata": {},
   "outputs": [],
   "source": [
    "df = data.copy()"
   ]
  },
  {
   "cell_type": "code",
   "execution_count": 18,
   "id": "12d8d131",
   "metadata": {},
   "outputs": [
    {
     "name": "stdout",
     "output_type": "stream",
     "text": [
      "<class 'pandas.core.frame.DataFrame'>\n",
      "RangeIndex: 4651 entries, 0 to 4650\n",
      "Data columns (total 12 columns):\n",
      " #   Column            Non-Null Count  Dtype  \n",
      "---  ------            --------------  -----  \n",
      " 0   CustomerID        4651 non-null   int64  \n",
      " 1   Age               4651 non-null   float64\n",
      " 2   Gender            4651 non-null   object \n",
      " 3   ContractType      4651 non-null   object \n",
      " 4   MonthlyCharges    4651 non-null   float64\n",
      " 5   TotalCharges      4651 non-null   float64\n",
      " 6   TechSupport       4651 non-null   object \n",
      " 7   InternetService   4651 non-null   object \n",
      " 8   Tenure            4651 non-null   int64  \n",
      " 9   PaperlessBilling  4651 non-null   object \n",
      " 10  PaymentMethod     4651 non-null   object \n",
      " 11  Churn             4651 non-null   object \n",
      "dtypes: float64(3), int64(2), object(7)\n",
      "memory usage: 436.2+ KB\n"
     ]
    }
   ],
   "source": [
    "df.info()"
   ]
  },
  {
   "cell_type": "markdown",
   "id": "b073c9c3",
   "metadata": {},
   "source": [
    "### Column Types\n",
    "\n",
    "- **Numerical** - CustomerID,Age,Monthlychargers,Totalcharges,Tenure\n",
    "- **Categorical** - Gender, ContractType, TechSupport, InternetService, PaperlessBilling,PaymentMethod,Churn"
   ]
  },
  {
   "cell_type": "markdown",
   "id": "7adb5f59",
   "metadata": {},
   "source": [
    "### Univariate Analysis \n",
    "\n",
    "Univariate analysis focuses on analyzing each feature in the dataset independently.\n",
    "\n",
    "- **Distribution analysis**: The distribution of each feature is examined to identify its shape, central tendency, and dispersion.\n",
    "\n",
    "- **Identifying potential issues**: Univariate analysis helps in identifying potential problems with the data such as outliers, skewness, and missing values"
   ]
  },
  {
   "cell_type": "markdown",
   "id": "700c604b",
   "metadata": {},
   "source": [
    "### Univariate Analysis on Categorical Columns\n"
   ]
  },
  {
   "cell_type": "code",
   "execution_count": 14,
   "id": "2e63bbec",
   "metadata": {
    "scrolled": false
   },
   "outputs": [
    {
     "name": "stdout",
     "output_type": "stream",
     "text": [
      "<class 'pandas.core.frame.DataFrame'>\n",
      "RangeIndex: 4651 entries, 0 to 4650\n",
      "Data columns (total 12 columns):\n",
      " #   Column            Non-Null Count  Dtype  \n",
      "---  ------            --------------  -----  \n",
      " 0   CustomerID        4651 non-null   int64  \n",
      " 1   Age               4651 non-null   float64\n",
      " 2   Gender            4651 non-null   object \n",
      " 3   ContractType      4651 non-null   object \n",
      " 4   MonthlyCharges    4651 non-null   float64\n",
      " 5   TotalCharges      4651 non-null   float64\n",
      " 6   TechSupport       4651 non-null   object \n",
      " 7   InternetService   4651 non-null   object \n",
      " 8   Tenure            4651 non-null   int64  \n",
      " 9   PaperlessBilling  4651 non-null   object \n",
      " 10  PaymentMethod     4651 non-null   object \n",
      " 11  Churn             4651 non-null   object \n",
      "dtypes: float64(3), int64(2), object(7)\n",
      "memory usage: 436.2+ KB\n"
     ]
    }
   ],
   "source": [
    "df.info()"
   ]
  },
  {
   "cell_type": "markdown",
   "id": "33e91940",
   "metadata": {},
   "source": [
    "### Gender\n",
    "`Conclusion`:-\n",
    "\n",
    "    - No Missing Values\n",
    "    - Female Customer are More in number"
   ]
  },
  {
   "cell_type": "code",
   "execution_count": 19,
   "id": "647ddcb7",
   "metadata": {
    "scrolled": false
   },
   "outputs": [
    {
     "data": {
      "text/plain": [
       "<Axes: xlabel='Gender', ylabel='count'>"
      ]
     },
     "execution_count": 19,
     "metadata": {},
     "output_type": "execute_result"
    },
    {
     "data": {
      "image/png": "[encoded data removed]",
      "text/plain": [
       "<Figure size 640x480 with 1 Axes>"
      ]
     },
     "metadata": {},
     "output_type": "display_data"
    }
   ],
   "source": [
    "sns.countplot(data=df,x='Gender')"
   ]
  },
  {
   "cell_type": "code",
   "execution_count": 20,
   "id": "be541b90",
   "metadata": {},
   "outputs": [
    {
     "data": {
      "text/plain": [
       "0"
      ]
     },
     "execution_count": 20,
     "metadata": {},
     "output_type": "execute_result"
    }
   ],
   "source": [
    "df.Gender.isna().sum()"
   ]
  },
  {
   "cell_type": "markdown",
   "id": "2c8dc7a8",
   "metadata": {},
   "source": [
    "### ContractType:\n",
    "\n",
    "`Conclusion`:-\n",
    "\n",
    "    - No Missing Values\n",
    "    - Converted to new Column ContractType_in_Days which contains the number of days as a contract"
   ]
  },
  {
   "cell_type": "code",
   "execution_count": 21,
   "id": "76054103",
   "metadata": {
    "scrolled": true
   },
   "outputs": [
    {
     "data": {
      "text/plain": [
       "ContractType\n",
       "One year          1595\n",
       "Two year          1556\n",
       "Month-to-month    1500\n",
       "Name: count, dtype: int64"
      ]
     },
     "execution_count": 21,
     "metadata": {},
     "output_type": "execute_result"
    }
   ],
   "source": [
    "df.ContractType.value_counts()"
   ]
  },
  {
   "cell_type": "code",
   "execution_count": 26,
   "id": "19b02d2c",
   "metadata": {},
   "outputs": [],
   "source": [
    "def conversion_days(data):\n",
    "    if 'One year' == data:\n",
    "        return 365\n",
    "    elif 'Two year' == data:\n",
    "        return 365*2\n",
    "    else:\n",
    "        return 30\n",
    "days = df.ContractType.apply(conversion_days)"
   ]
  },
  {
   "cell_type": "code",
   "execution_count": 28,
   "id": "d39665ce",
   "metadata": {},
   "outputs": [
    {
     "name": "stdout",
     "output_type": "stream",
     "text": [
      "<class 'pandas.core.frame.DataFrame'>\n",
      "RangeIndex: 4651 entries, 0 to 4650\n",
      "Data columns (total 12 columns):\n",
      " #   Column            Non-Null Count  Dtype  \n",
      "---  ------            --------------  -----  \n",
      " 0   CustomerID        4651 non-null   int64  \n",
      " 1   Age               4651 non-null   float64\n",
      " 2   Gender            4651 non-null   object \n",
      " 3   ContractType      4651 non-null   object \n",
      " 4   MonthlyCharges    4651 non-null   float64\n",
      " 5   TotalCharges      4651 non-null   float64\n",
      " 6   TechSupport       4651 non-null   object \n",
      " 7   InternetService   4651 non-null   object \n",
      " 8   Tenure            4651 non-null   int64  \n",
      " 9   PaperlessBilling  4651 non-null   object \n",
      " 10  PaymentMethod     4651 non-null   object \n",
      " 11  Churn             4651 non-null   object \n",
      "dtypes: float64(3), int64(2), object(7)\n",
      "memory usage: 436.2+ KB\n"
     ]
    }
   ],
   "source": [
    "df.info()"
   ]
  },
  {
   "cell_type": "code",
   "execution_count": 29,
   "id": "ae9c9c51",
   "metadata": {},
   "outputs": [],
   "source": [
    "df.insert(3,'ContractType_In_days',days)"
   ]
  },
  {
   "cell_type": "code",
   "execution_count": 31,
   "id": "8803eee9",
   "metadata": {},
   "outputs": [],
   "source": [
    "df.drop(columns=['ContractType'],inplace=True)"
   ]
  },
  {
   "cell_type": "code",
   "execution_count": 32,
   "id": "39d3c63a",
   "metadata": {
    "scrolled": false
   },
   "outputs": [
    {
     "name": "stdout",
     "output_type": "stream",
     "text": [
      "<class 'pandas.core.frame.DataFrame'>\n",
      "RangeIndex: 4651 entries, 0 to 4650\n",
      "Data columns (total 12 columns):\n",
      " #   Column                Non-Null Count  Dtype  \n",
      "---  ------                --------------  -----  \n",
      " 0   CustomerID            4651 non-null   int64  \n",
      " 1   Age                   4651 non-null   float64\n",
      " 2   Gender                4651 non-null   object \n",
      " 3   ContractType_In_days  4651 non-null   int64  \n",
      " 4   MonthlyCharges        4651 non-null   float64\n",
      " 5   TotalCharges          4651 non-null   float64\n",
      " 6   TechSupport           4651 non-null   object \n",
      " 7   InternetService       4651 non-null   object \n",
      " 8   Tenure                4651 non-null   int64  \n",
      " 9   PaperlessBilling      4651 non-null   object \n",
      " 10  PaymentMethod         4651 non-null   object \n",
      " 11  Churn                 4651 non-null   object \n",
      "dtypes: float64(3), int64(3), object(6)\n",
      "memory usage: 436.2+ KB\n"
     ]
    }
   ],
   "source": [
    "df.info()"
   ]
  },
  {
   "cell_type": "markdown",
   "id": "8c9ad4ee",
   "metadata": {},
   "source": [
    "### TechSupport:\n",
    "\n",
    "`Conclusion`:-\n",
    "\n",
    "    - No Missing Values\n",
    "    - Value are almost divided equally"
   ]
  },
  {
   "cell_type": "code",
   "execution_count": 34,
   "id": "da80163d",
   "metadata": {
    "scrolled": true
   },
   "outputs": [
    {
     "data": {
      "text/plain": [
       "TechSupport\n",
       "Yes    2338\n",
       "No     2313\n",
       "Name: count, dtype: int64"
      ]
     },
     "execution_count": 34,
     "metadata": {},
     "output_type": "execute_result"
    }
   ],
   "source": [
    "df.TechSupport.value_counts()"
   ]
  },
  {
   "cell_type": "code",
   "execution_count": 36,
   "id": "bff9cd01",
   "metadata": {
    "scrolled": false
   },
   "outputs": [
    {
     "data": {
      "text/plain": [
       "<Axes: ylabel='count'>"
      ]
     },
     "execution_count": 36,
     "metadata": {},
     "output_type": "execute_result"
    },
    {
     "data": {
      "image/png": "[encoded data removed]",
      "text/plain": [
       "<Figure size 640x480 with 1 Axes>"
      ]
     },
     "metadata": {},
     "output_type": "display_data"
    }
   ],
   "source": [
    "df.TechSupport.value_counts().plot(kind='pie')"
   ]
  },
  {
   "cell_type": "markdown",
   "id": "b1d3a0df",
   "metadata": {},
   "source": [
    "### InternetService:\n",
    "\n",
    "`Conclusion`:-\n",
    "\n",
    "    - No Missing Values\n",
    "    - Value are almost divided equally"
   ]
  },
  {
   "cell_type": "code",
   "execution_count": 38,
   "id": "e3bbd344",
   "metadata": {
    "scrolled": false
   },
   "outputs": [
    {
     "data": {
      "text/plain": [
       "<Axes: ylabel='count'>"
      ]
     },
     "execution_count": 38,
     "metadata": {},
     "output_type": "execute_result"
    },
    {
     "data": {
      "image/png": "[encoded data removed]",
      "text/plain": [
       "<Figure size 640x480 with 1 Axes>"
      ]
     },
     "metadata": {},
     "output_type": "display_data"
    }
   ],
   "source": [
    "df.InternetService.value_counts().plot(kind = 'pie')"
   ]
  },
  {
   "cell_type": "code",
   "execution_count": 39,
   "id": "1607f6c7",
   "metadata": {},
   "outputs": [
    {
     "name": "stdout",
     "output_type": "stream",
     "text": [
      "<class 'pandas.core.frame.DataFrame'>\n",
      "RangeIndex: 4651 entries, 0 to 4650\n",
      "Data columns (total 12 columns):\n",
      " #   Column                Non-Null Count  Dtype  \n",
      "---  ------                --------------  -----  \n",
      " 0   CustomerID            4651 non-null   int64  \n",
      " 1   Age                   4651 non-null   float64\n",
      " 2   Gender                4651 non-null   object \n",
      " 3   ContractType_In_days  4651 non-null   int64  \n",
      " 4   MonthlyCharges        4651 non-null   float64\n",
      " 5   TotalCharges          4651 non-null   float64\n",
      " 6   TechSupport           4651 non-null   object \n",
      " 7   InternetService       4651 non-null   object \n",
      " 8   Tenure                4651 non-null   int64  \n",
      " 9   PaperlessBilling      4651 non-null   object \n",
      " 10  PaymentMethod         4651 non-null   object \n",
      " 11  Churn                 4651 non-null   object \n",
      "dtypes: float64(3), int64(3), object(6)\n",
      "memory usage: 436.2+ KB\n"
     ]
    }
   ],
   "source": [
    "df.info()"
   ]
  },
  {
   "cell_type": "markdown",
   "id": "7823dbef",
   "metadata": {},
   "source": [
    "###  PaperlessBilling:\n",
    "\n",
    "    `Conclusion`:-\n",
    "\n",
    "    - No Missing Values\n",
    "    - Value are almost divided equally"
   ]
  },
  {
   "cell_type": "code",
   "execution_count": 40,
   "id": "da46a1c1",
   "metadata": {
    "scrolled": false
   },
   "outputs": [
    {
     "data": {
      "text/plain": [
       "PaperlessBilling\n",
       "No     2366\n",
       "Yes    2285\n",
       "Name: count, dtype: int64"
      ]
     },
     "execution_count": 40,
     "metadata": {},
     "output_type": "execute_result"
    }
   ],
   "source": [
    "df.PaperlessBilling.value_counts()"
   ]
  },
  {
   "cell_type": "markdown",
   "id": "77fb8bd0",
   "metadata": {},
   "source": [
    "### PaymentMethod:\n",
    "\n",
    "`Conclusion`:-\n",
    "\n",
    "    - No Missing Values\n",
    "    - Value are almost divided equally"
   ]
  },
  {
   "cell_type": "code",
   "execution_count": 42,
   "id": "f0efc995",
   "metadata": {},
   "outputs": [
    {
     "data": {
      "text/plain": [
       "<Axes: ylabel='count'>"
      ]
     },
     "execution_count": 42,
     "metadata": {},
     "output_type": "execute_result"
    },
    {
     "data": {
      "image/png": "[encoded data removed]",
      "text/plain": [
       "<Figure size 640x480 with 1 Axes>"
      ]
     },
     "metadata": {},
     "output_type": "display_data"
    }
   ],
   "source": [
    "df.PaymentMethod.value_counts().plot(kind='pie')"
   ]
  },
  {
   "cell_type": "markdown",
   "id": "97992eee",
   "metadata": {},
   "source": [
    "### Churn:\n",
    "\n",
    "`Conclusion`:-\n",
    "\n",
    "    - No Missing Values\n",
    "    - Value are almost divided equally"
   ]
  },
  {
   "cell_type": "code",
   "execution_count": 43,
   "id": "a3346ae7",
   "metadata": {
    "scrolled": true
   },
   "outputs": [
    {
     "data": {
      "text/plain": [
       "Churn\n",
       "Yes    2374\n",
       "No     2277\n",
       "Name: count, dtype: int64"
      ]
     },
     "execution_count": 43,
     "metadata": {},
     "output_type": "execute_result"
    }
   ],
   "source": [
    "df.Churn.value_counts()"
   ]
  },
  {
   "cell_type": "markdown",
   "id": "72c6ac75",
   "metadata": {},
   "source": [
    "### Univariate Analysis on Numerical columns"
   ]
  },
  {
   "cell_type": "code",
   "execution_count": 44,
   "id": "41c92168",
   "metadata": {},
   "outputs": [
    {
     "name": "stdout",
     "output_type": "stream",
     "text": [
      "<class 'pandas.core.frame.DataFrame'>\n",
      "RangeIndex: 4651 entries, 0 to 4650\n",
      "Data columns (total 12 columns):\n",
      " #   Column                Non-Null Count  Dtype  \n",
      "---  ------                --------------  -----  \n",
      " 0   CustomerID            4651 non-null   int64  \n",
      " 1   Age                   4651 non-null   float64\n",
      " 2   Gender                4651 non-null   object \n",
      " 3   ContractType_In_days  4651 non-null   int64  \n",
      " 4   MonthlyCharges        4651 non-null   float64\n",
      " 5   TotalCharges          4651 non-null   float64\n",
      " 6   TechSupport           4651 non-null   object \n",
      " 7   InternetService       4651 non-null   object \n",
      " 8   Tenure                4651 non-null   int64  \n",
      " 9   PaperlessBilling      4651 non-null   object \n",
      " 10  PaymentMethod         4651 non-null   object \n",
      " 11  Churn                 4651 non-null   object \n",
      "dtypes: float64(3), int64(3), object(6)\n",
      "memory usage: 436.2+ KB\n"
     ]
    }
   ],
   "source": [
    "df.info()"
   ]
  },
  {
   "cell_type": "markdown",
   "id": "14423cff",
   "metadata": {},
   "source": [
    "### Age:\n",
    "\n",
    "`Conclusion`:-\n",
    "\n",
    "    - No Missing Values\n",
    "    - No Outlier Found"
   ]
  },
  {
   "cell_type": "code",
   "execution_count": 45,
   "id": "2dbeb883",
   "metadata": {},
   "outputs": [
    {
     "data": {
      "text/plain": [
       "count    4651.000000\n",
       "mean       53.321221\n",
       "std        20.679189\n",
       "min        18.000000\n",
       "25%        35.000000\n",
       "50%        53.000000\n",
       "75%        71.000000\n",
       "max        89.000000\n",
       "Name: Age, dtype: float64"
      ]
     },
     "execution_count": 45,
     "metadata": {},
     "output_type": "execute_result"
    }
   ],
   "source": [
    "df.Age.describe()"
   ]
  },
  {
   "cell_type": "code",
   "execution_count": 47,
   "id": "e05a16d5",
   "metadata": {
    "scrolled": false
   },
   "outputs": [
    {
     "data": {
      "text/plain": [
       "<Axes: xlabel='Age', ylabel='Density'>"
      ]
     },
     "execution_count": 47,
     "metadata": {},
     "output_type": "execute_result"
    },
    {
     "data": {
      "image/png": "[encoded data removed]",
      "text/plain": [
       "<Figure size 640x480 with 1 Axes>"
      ]
     },
     "metadata": {},
     "output_type": "display_data"
    }
   ],
   "source": [
    "sns.kdeplot(data=df,x='Age')"
   ]
  },
  {
   "cell_type": "code",
   "execution_count": 48,
   "id": "af41e1bb",
   "metadata": {
    "scrolled": false
   },
   "outputs": [
    {
     "data": {
      "text/plain": [
       "<Axes: >"
      ]
     },
     "execution_count": 48,
     "metadata": {},
     "output_type": "execute_result"
    },
    {
     "data": {
      "image/png": "[encoded data removed]",
      "text/plain": [
       "<Figure size 640x480 with 1 Axes>"
      ]
     },
     "metadata": {},
     "output_type": "display_data"
    }
   ],
   "source": [
    "df.Age.plot(kind='box')"
   ]
  },
  {
   "cell_type": "code",
   "execution_count": 49,
   "id": "2066325c",
   "metadata": {},
   "outputs": [
    {
     "name": "stdout",
     "output_type": "stream",
     "text": [
      "<class 'pandas.core.frame.DataFrame'>\n",
      "RangeIndex: 4651 entries, 0 to 4650\n",
      "Data columns (total 12 columns):\n",
      " #   Column                Non-Null Count  Dtype  \n",
      "---  ------                --------------  -----  \n",
      " 0   CustomerID            4651 non-null   int64  \n",
      " 1   Age                   4651 non-null   float64\n",
      " 2   Gender                4651 non-null   object \n",
      " 3   ContractType_In_days  4651 non-null   int64  \n",
      " 4   MonthlyCharges        4651 non-null   float64\n",
      " 5   TotalCharges          4651 non-null   float64\n",
      " 6   TechSupport           4651 non-null   object \n",
      " 7   InternetService       4651 non-null   object \n",
      " 8   Tenure                4651 non-null   int64  \n",
      " 9   PaperlessBilling      4651 non-null   object \n",
      " 10  PaymentMethod         4651 non-null   object \n",
      " 11  Churn                 4651 non-null   object \n",
      "dtypes: float64(3), int64(3), object(6)\n",
      "memory usage: 436.2+ KB\n"
     ]
    }
   ],
   "source": [
    "df.info()"
   ]
  },
  {
   "cell_type": "markdown",
   "id": "f9e336aa",
   "metadata": {},
   "source": [
    "### MonthlyCharges:\n",
    "\n",
    "`Conclusion`:-\n",
    "\n",
    "    - No Missing Values\n",
    "    - Outliers have been handled"
   ]
  },
  {
   "cell_type": "code",
   "execution_count": 50,
   "id": "c1cc6a19",
   "metadata": {
    "scrolled": true
   },
   "outputs": [
    {
     "data": {
      "text/plain": [
       "count    4651.000000\n",
       "mean       71.586361\n",
       "std        30.894229\n",
       "min        20.030708\n",
       "25%        46.904230\n",
       "50%        71.630182\n",
       "75%        96.053310\n",
       "max       394.364052\n",
       "Name: MonthlyCharges, dtype: float64"
      ]
     },
     "execution_count": 50,
     "metadata": {},
     "output_type": "execute_result"
    }
   ],
   "source": [
    "df.MonthlyCharges.describe()"
   ]
  },
  {
   "cell_type": "code",
   "execution_count": 52,
   "id": "0c990a55",
   "metadata": {},
   "outputs": [
    {
     "data": {
      "text/plain": [
       "<Axes: xlabel='MonthlyCharges', ylabel='Count'>"
      ]
     },
     "execution_count": 52,
     "metadata": {},
     "output_type": "execute_result"
    },
    {
     "data": {
      "image/png": "[encoded data removed]",
      "text/plain": [
       "<Figure size 640x480 with 1 Axes>"
      ]
     },
     "metadata": {},
     "output_type": "display_data"
    }
   ],
   "source": [
    "sns.histplot(data=df,x='MonthlyCharges',kde=True)"
   ]
  },
  {
   "cell_type": "code",
   "execution_count": 53,
   "id": "ae07c0cf",
   "metadata": {},
   "outputs": [
    {
     "data": {
      "text/plain": [
       "0.944190282237162"
      ]
     },
     "execution_count": 53,
     "metadata": {},
     "output_type": "execute_result"
    }
   ],
   "source": [
    "df.MonthlyCharges.skew()"
   ]
  },
  {
   "cell_type": "code",
   "execution_count": 61,
   "id": "7a32ec91",
   "metadata": {},
   "outputs": [],
   "source": [
    "df = df[~(df.MonthlyCharges>200)]"
   ]
  },
  {
   "cell_type": "code",
   "execution_count": 62,
   "id": "f52a7f20",
   "metadata": {},
   "outputs": [
    {
     "data": {
      "text/plain": [
       "-0.05023282989140127"
      ]
     },
     "execution_count": 62,
     "metadata": {},
     "output_type": "execute_result"
    }
   ],
   "source": [
    "df.MonthlyCharges.skew()"
   ]
  },
  {
   "cell_type": "code",
   "execution_count": 65,
   "id": "5bc78882",
   "metadata": {
    "scrolled": false
   },
   "outputs": [
    {
     "data": {
      "text/plain": [
       "<Axes: ylabel='MonthlyCharges'>"
      ]
     },
     "execution_count": 65,
     "metadata": {},
     "output_type": "execute_result"
    },
    {
     "data": {
      "image/png": "[encoded data removed]",
      "text/plain": [
       "<Figure size 640x480 with 1 Axes>"
      ]
     },
     "metadata": {},
     "output_type": "display_data"
    }
   ],
   "source": [
    "sns.boxplot(data=df,y='MonthlyCharges')"
   ]
  },
  {
   "cell_type": "code",
   "execution_count": 66,
   "id": "e9581ddf",
   "metadata": {},
   "outputs": [
    {
     "name": "stdout",
     "output_type": "stream",
     "text": [
      "<class 'pandas.core.frame.DataFrame'>\n",
      "Index: 4641 entries, 0 to 4650\n",
      "Data columns (total 12 columns):\n",
      " #   Column                Non-Null Count  Dtype  \n",
      "---  ------                --------------  -----  \n",
      " 0   CustomerID            4641 non-null   int64  \n",
      " 1   Age                   4641 non-null   float64\n",
      " 2   Gender                4641 non-null   object \n",
      " 3   ContractType_In_days  4641 non-null   int64  \n",
      " 4   MonthlyCharges        4641 non-null   float64\n",
      " 5   TotalCharges          4641 non-null   float64\n",
      " 6   TechSupport           4641 non-null   object \n",
      " 7   InternetService       4641 non-null   object \n",
      " 8   Tenure                4641 non-null   int64  \n",
      " 9   PaperlessBilling      4641 non-null   object \n",
      " 10  PaymentMethod         4641 non-null   object \n",
      " 11  Churn                 4641 non-null   object \n",
      "dtypes: float64(3), int64(3), object(6)\n",
      "memory usage: 471.4+ KB\n"
     ]
    }
   ],
   "source": [
    "df.info()"
   ]
  },
  {
   "cell_type": "markdown",
   "id": "bcf0e52a",
   "metadata": {},
   "source": [
    "### TotalCharges:\n",
    "\n",
    "`Conclusion`:-\n",
    "\n",
    "    - No Missing Values\n",
    "    - Around 250 rows have droped as it contains the outlier values "
   ]
  },
  {
   "cell_type": "code",
   "execution_count": 67,
   "id": "18f004dc",
   "metadata": {
    "scrolled": true
   },
   "outputs": [
    {
     "data": {
      "text/plain": [
       "count     4641.000000\n",
       "mean      2547.948386\n",
       "std       1926.446844\n",
       "min          0.000000\n",
       "25%        981.664836\n",
       "50%       2106.499950\n",
       "75%       3788.770844\n",
       "max      11943.264877\n",
       "Name: TotalCharges, dtype: float64"
      ]
     },
     "execution_count": 67,
     "metadata": {},
     "output_type": "execute_result"
    }
   ],
   "source": [
    "df.TotalCharges.describe()"
   ]
  },
  {
   "cell_type": "code",
   "execution_count": 68,
   "id": "6e7e5d16",
   "metadata": {},
   "outputs": [
    {
     "data": {
      "text/plain": [
       "0.7841534300429074"
      ]
     },
     "execution_count": 68,
     "metadata": {},
     "output_type": "execute_result"
    }
   ],
   "source": [
    "df.TotalCharges.skew()"
   ]
  },
  {
   "cell_type": "code",
   "execution_count": 70,
   "id": "a11d10d1",
   "metadata": {
    "scrolled": false
   },
   "outputs": [
    {
     "data": {
      "text/plain": [
       "<Axes: xlabel='TotalCharges', ylabel='Count'>"
      ]
     },
     "execution_count": 70,
     "metadata": {},
     "output_type": "execute_result"
    },
    {
     "data": {
      "image/png": "[encoded data removed]",
      "text/plain": [
       "<Figure size 640x480 with 1 Axes>"
      ]
     },
     "metadata": {},
     "output_type": "display_data"
    }
   ],
   "source": [
    "sns.histplot(data=df,x='TotalCharges',kde=True)"
   ]
  },
  {
   "cell_type": "code",
   "execution_count": 78,
   "id": "25844619",
   "metadata": {},
   "outputs": [],
   "source": [
    "df = df[~(df.TotalCharges>6500)]"
   ]
  },
  {
   "cell_type": "code",
   "execution_count": 85,
   "id": "44616f5a",
   "metadata": {},
   "outputs": [],
   "source": [
    "df = df[~(df.TotalCharges==0)]"
   ]
  },
  {
   "cell_type": "code",
   "execution_count": 86,
   "id": "1cee6df5",
   "metadata": {},
   "outputs": [
    {
     "data": {
      "text/plain": [
       "0.6042191935647911"
      ]
     },
     "execution_count": 86,
     "metadata": {},
     "output_type": "execute_result"
    }
   ],
   "source": [
    "df.TotalCharges.skew()"
   ]
  },
  {
   "cell_type": "code",
   "execution_count": 87,
   "id": "d22aa2dd",
   "metadata": {},
   "outputs": [
    {
     "data": {
      "text/plain": [
       "<Axes: >"
      ]
     },
     "execution_count": 87,
     "metadata": {},
     "output_type": "execute_result"
    },
    {
     "data": {
      "image/png": "[encoded data removed]",
      "text/plain": [
       "<Figure size 640x480 with 1 Axes>"
      ]
     },
     "metadata": {},
     "output_type": "display_data"
    }
   ],
   "source": [
    "df.TotalCharges.plot(kind='box')"
   ]
  },
  {
   "cell_type": "code",
   "execution_count": 88,
   "id": "dec79b15",
   "metadata": {
    "scrolled": false
   },
   "outputs": [
    {
     "data": {
      "text/plain": [
       "<Axes: xlabel='TotalCharges', ylabel='Count'>"
      ]
     },
     "execution_count": 88,
     "metadata": {},
     "output_type": "execute_result"
    },
    {
     "data": {
      "image/png": "[encoded data removed]",
      "text/plain": [
       "<Figure size 640x480 with 1 Axes>"
      ]
     },
     "metadata": {},
     "output_type": "display_data"
    }
   ],
   "source": [
    "sns.histplot(data=df,x='TotalCharges',kde=True)"
   ]
  },
  {
   "cell_type": "code",
   "execution_count": 89,
   "id": "55d20067",
   "metadata": {},
   "outputs": [
    {
     "data": {
      "text/plain": [
       "count    4364.000000\n",
       "mean     2362.864874\n",
       "std      1665.823190\n",
       "min        20.099899\n",
       "25%       980.043353\n",
       "50%      2020.433565\n",
       "75%      3514.907060\n",
       "max      6494.540110\n",
       "Name: TotalCharges, dtype: float64"
      ]
     },
     "execution_count": 89,
     "metadata": {},
     "output_type": "execute_result"
    }
   ],
   "source": [
    "df.TotalCharges.describe()"
   ]
  },
  {
   "cell_type": "code",
   "execution_count": 90,
   "id": "f7ffe77c",
   "metadata": {},
   "outputs": [
    {
     "name": "stdout",
     "output_type": "stream",
     "text": [
      "<class 'pandas.core.frame.DataFrame'>\n",
      "Index: 4364 entries, 0 to 4649\n",
      "Data columns (total 12 columns):\n",
      " #   Column                Non-Null Count  Dtype  \n",
      "---  ------                --------------  -----  \n",
      " 0   CustomerID            4364 non-null   int64  \n",
      " 1   Age                   4364 non-null   float64\n",
      " 2   Gender                4364 non-null   object \n",
      " 3   ContractType_In_days  4364 non-null   int64  \n",
      " 4   MonthlyCharges        4364 non-null   float64\n",
      " 5   TotalCharges          4364 non-null   float64\n",
      " 6   TechSupport           4364 non-null   object \n",
      " 7   InternetService       4364 non-null   object \n",
      " 8   Tenure                4364 non-null   int64  \n",
      " 9   PaperlessBilling      4364 non-null   object \n",
      " 10  PaymentMethod         4364 non-null   object \n",
      " 11  Churn                 4364 non-null   object \n",
      "dtypes: float64(3), int64(3), object(6)\n",
      "memory usage: 443.2+ KB\n"
     ]
    }
   ],
   "source": [
    "df.info()"
   ]
  },
  {
   "cell_type": "markdown",
   "id": "341567ea",
   "metadata": {},
   "source": [
    "### Tenure:\n",
    "\n",
    "`Conclusion`:-\n",
    "\n",
    "    - No Missing Values\n",
    "    - Value are almost divided equally"
   ]
  },
  {
   "cell_type": "code",
   "execution_count": 105,
   "id": "a0620d85",
   "metadata": {
    "scrolled": true
   },
   "outputs": [
    {
     "data": {
      "text/plain": [
       "count    4364.000000\n",
       "mean       34.683547\n",
       "std        20.125995\n",
       "min         1.000000\n",
       "25%        17.000000\n",
       "50%        34.000000\n",
       "75%        52.000000\n",
       "max        71.000000\n",
       "Name: Tenure, dtype: float64"
      ]
     },
     "execution_count": 105,
     "metadata": {},
     "output_type": "execute_result"
    }
   ],
   "source": [
    "df.Tenure.describe()"
   ]
  },
  {
   "cell_type": "code",
   "execution_count": 107,
   "id": "2da8012d",
   "metadata": {
    "scrolled": false
   },
   "outputs": [
    {
     "data": {
      "text/plain": [
       "<Axes: ylabel='Density'>"
      ]
     },
     "execution_count": 107,
     "metadata": {},
     "output_type": "execute_result"
    },
    {
     "data": {
      "image/png": "[encoded data removed]",
      "text/plain": [
       "<Figure size 640x480 with 1 Axes>"
      ]
     },
     "metadata": {},
     "output_type": "display_data"
    }
   ],
   "source": [
    "df.Tenure.plot(kind='kde')"
   ]
  },
  {
   "cell_type": "code",
   "execution_count": 108,
   "id": "238d9566",
   "metadata": {
    "scrolled": true
   },
   "outputs": [
    {
     "name": "stdout",
     "output_type": "stream",
     "text": [
      "<class 'pandas.core.frame.DataFrame'>\n",
      "Index: 4364 entries, 0 to 4649\n",
      "Data columns (total 12 columns):\n",
      " #   Column                Non-Null Count  Dtype  \n",
      "---  ------                --------------  -----  \n",
      " 0   CustomerID            4364 non-null   int64  \n",
      " 1   Age                   4364 non-null   float64\n",
      " 2   Gender                4364 non-null   object \n",
      " 3   ContractType_In_days  4364 non-null   int64  \n",
      " 4   MonthlyCharges        4364 non-null   float64\n",
      " 5   TotalCharges          4364 non-null   float64\n",
      " 6   TechSupport           4364 non-null   object \n",
      " 7   InternetService       4364 non-null   object \n",
      " 8   Tenure                4364 non-null   int64  \n",
      " 9   PaperlessBilling      4364 non-null   object \n",
      " 10  PaymentMethod         4364 non-null   object \n",
      " 11  Churn                 4364 non-null   object \n",
      "dtypes: float64(3), int64(3), object(6)\n",
      "memory usage: 443.2+ KB\n"
     ]
    }
   ],
   "source": [
    "df.info()"
   ]
  },
  {
   "cell_type": "code",
   "execution_count": 109,
   "id": "c7d0185b",
   "metadata": {
    "scrolled": false
   },
   "outputs": [
    {
     "data": {
      "text/html": [
       "<div>\n",
       "<style scoped>\n",
       "    .dataframe tbody tr th:only-of-type {\n",
       "        vertical-align: middle;\n",
       "    }\n",
       "\n",
       "    .dataframe tbody tr th {\n",
       "        vertical-align: top;\n",
       "    }\n",
       "\n",
       "    .dataframe thead th {\n",
       "        text-align: right;\n",
       "    }\n",
       "</style>\n",
       "<table border=\"1\" class=\"dataframe\">\n",
       "  <thead>\n",
       "    <tr style=\"text-align: right;\">\n",
       "      <th></th>\n",
       "      <th>CustomerID</th>\n",
       "      <th>Age</th>\n",
       "      <th>Gender</th>\n",
       "      <th>ContractType_In_days</th>\n",
       "      <th>MonthlyCharges</th>\n",
       "      <th>TotalCharges</th>\n",
       "      <th>TechSupport</th>\n",
       "      <th>InternetService</th>\n",
       "      <th>Tenure</th>\n",
       "      <th>PaperlessBilling</th>\n",
       "      <th>PaymentMethod</th>\n",
       "      <th>Churn</th>\n",
       "    </tr>\n",
       "  </thead>\n",
       "  <tbody>\n",
       "    <tr>\n",
       "      <th>0</th>\n",
       "      <td>1083</td>\n",
       "      <td>79.0</td>\n",
       "      <td>Male</td>\n",
       "      <td>365</td>\n",
       "      <td>90.038513</td>\n",
       "      <td>3511.502019</td>\n",
       "      <td>No</td>\n",
       "      <td>No</td>\n",
       "      <td>39</td>\n",
       "      <td>No</td>\n",
       "      <td>Electronic check</td>\n",
       "      <td>Yes</td>\n",
       "    </tr>\n",
       "    <tr>\n",
       "      <th>1</th>\n",
       "      <td>1117</td>\n",
       "      <td>60.0</td>\n",
       "      <td>Female</td>\n",
       "      <td>365</td>\n",
       "      <td>80.590894</td>\n",
       "      <td>2901.272196</td>\n",
       "      <td>No</td>\n",
       "      <td>Fiber optic</td>\n",
       "      <td>36</td>\n",
       "      <td>No</td>\n",
       "      <td>Bank transfer</td>\n",
       "      <td>Yes</td>\n",
       "    </tr>\n",
       "    <tr>\n",
       "      <th>3</th>\n",
       "      <td>3833</td>\n",
       "      <td>84.0</td>\n",
       "      <td>Female</td>\n",
       "      <td>365</td>\n",
       "      <td>43.042067</td>\n",
       "      <td>1549.514395</td>\n",
       "      <td>No</td>\n",
       "      <td>No</td>\n",
       "      <td>36</td>\n",
       "      <td>No</td>\n",
       "      <td>Mailed check</td>\n",
       "      <td>Yes</td>\n",
       "    </tr>\n",
       "    <tr>\n",
       "      <th>4</th>\n",
       "      <td>1976</td>\n",
       "      <td>69.0</td>\n",
       "      <td>Male</td>\n",
       "      <td>365</td>\n",
       "      <td>51.930032</td>\n",
       "      <td>2232.991377</td>\n",
       "      <td>No</td>\n",
       "      <td>No</td>\n",
       "      <td>43</td>\n",
       "      <td>No</td>\n",
       "      <td>Credit card</td>\n",
       "      <td>No</td>\n",
       "    </tr>\n",
       "    <tr>\n",
       "      <th>6</th>\n",
       "      <td>3132</td>\n",
       "      <td>49.0</td>\n",
       "      <td>Male</td>\n",
       "      <td>365</td>\n",
       "      <td>101.524194</td>\n",
       "      <td>913.717747</td>\n",
       "      <td>Yes</td>\n",
       "      <td>DSL</td>\n",
       "      <td>9</td>\n",
       "      <td>Yes</td>\n",
       "      <td>Electronic check</td>\n",
       "      <td>No</td>\n",
       "    </tr>\n",
       "    <tr>\n",
       "      <th>...</th>\n",
       "      <td>...</td>\n",
       "      <td>...</td>\n",
       "      <td>...</td>\n",
       "      <td>...</td>\n",
       "      <td>...</td>\n",
       "      <td>...</td>\n",
       "      <td>...</td>\n",
       "      <td>...</td>\n",
       "      <td>...</td>\n",
       "      <td>...</td>\n",
       "      <td>...</td>\n",
       "      <td>...</td>\n",
       "    </tr>\n",
       "    <tr>\n",
       "      <th>4645</th>\n",
       "      <td>2133</td>\n",
       "      <td>39.0</td>\n",
       "      <td>Male</td>\n",
       "      <td>365</td>\n",
       "      <td>30.017101</td>\n",
       "      <td>210.119705</td>\n",
       "      <td>No</td>\n",
       "      <td>Fiber optic</td>\n",
       "      <td>7</td>\n",
       "      <td>No</td>\n",
       "      <td>Credit card</td>\n",
       "      <td>Yes</td>\n",
       "    </tr>\n",
       "    <tr>\n",
       "      <th>4646</th>\n",
       "      <td>1514</td>\n",
       "      <td>54.0</td>\n",
       "      <td>Male</td>\n",
       "      <td>365</td>\n",
       "      <td>57.803077</td>\n",
       "      <td>462.424613</td>\n",
       "      <td>No</td>\n",
       "      <td>DSL</td>\n",
       "      <td>8</td>\n",
       "      <td>Yes</td>\n",
       "      <td>Bank transfer</td>\n",
       "      <td>No</td>\n",
       "    </tr>\n",
       "    <tr>\n",
       "      <th>4647</th>\n",
       "      <td>2716</td>\n",
       "      <td>45.0</td>\n",
       "      <td>Male</td>\n",
       "      <td>730</td>\n",
       "      <td>103.314530</td>\n",
       "      <td>826.516243</td>\n",
       "      <td>No</td>\n",
       "      <td>DSL</td>\n",
       "      <td>8</td>\n",
       "      <td>No</td>\n",
       "      <td>Credit card</td>\n",
       "      <td>No</td>\n",
       "    </tr>\n",
       "    <tr>\n",
       "      <th>4648</th>\n",
       "      <td>756</td>\n",
       "      <td>21.0</td>\n",
       "      <td>Female</td>\n",
       "      <td>730</td>\n",
       "      <td>103.105344</td>\n",
       "      <td>103.105344</td>\n",
       "      <td>Yes</td>\n",
       "      <td>Fiber optic</td>\n",
       "      <td>1</td>\n",
       "      <td>Yes</td>\n",
       "      <td>Electronic check</td>\n",
       "      <td>Yes</td>\n",
       "    </tr>\n",
       "    <tr>\n",
       "      <th>4649</th>\n",
       "      <td>3284</td>\n",
       "      <td>85.0</td>\n",
       "      <td>Male</td>\n",
       "      <td>730</td>\n",
       "      <td>36.907180</td>\n",
       "      <td>1660.823112</td>\n",
       "      <td>Yes</td>\n",
       "      <td>Fiber optic</td>\n",
       "      <td>45</td>\n",
       "      <td>Yes</td>\n",
       "      <td>Credit card</td>\n",
       "      <td>Yes</td>\n",
       "    </tr>\n",
       "  </tbody>\n",
       "</table>\n",
       "<p>4364 rows × 12 columns</p>\n",
       "</div>"
      ],
      "text/plain": [
       "      CustomerID   Age  Gender  ContractType_In_days  MonthlyCharges  \\\n",
       "0           1083  79.0    Male                   365       90.038513   \n",
       "1           1117  60.0  Female                   365       80.590894   \n",
       "3           3833  84.0  Female                   365       43.042067   \n",
       "4           1976  69.0    Male                   365       51.930032   \n",
       "6           3132  49.0    Male                   365      101.524194   \n",
       "...          ...   ...     ...                   ...             ...   \n",
       "4645        2133  39.0    Male                   365       30.017101   \n",
       "4646        1514  54.0    Male                   365       57.803077   \n",
       "4647        2716  45.0    Male                   730      103.314530   \n",
       "4648         756  21.0  Female                   730      103.105344   \n",
       "4649        3284  85.0    Male                   730       36.907180   \n",
       "\n",
       "      TotalCharges TechSupport InternetService  Tenure PaperlessBilling  \\\n",
       "0      3511.502019          No              No      39               No   \n",
       "1      2901.272196          No     Fiber optic      36               No   \n",
       "3      1549.514395          No              No      36               No   \n",
       "4      2232.991377          No              No      43               No   \n",
       "6       913.717747         Yes             DSL       9              Yes   \n",
       "...            ...         ...             ...     ...              ...   \n",
       "4645    210.119705          No     Fiber optic       7               No   \n",
       "4646    462.424613          No             DSL       8              Yes   \n",
       "4647    826.516243          No             DSL       8               No   \n",
       "4648    103.105344         Yes     Fiber optic       1              Yes   \n",
       "4649   1660.823112         Yes     Fiber optic      45              Yes   \n",
       "\n",
       "         PaymentMethod Churn  \n",
       "0     Electronic check   Yes  \n",
       "1        Bank transfer   Yes  \n",
       "3         Mailed check   Yes  \n",
       "4          Credit card    No  \n",
       "6     Electronic check    No  \n",
       "...                ...   ...  \n",
       "4645       Credit card   Yes  \n",
       "4646     Bank transfer    No  \n",
       "4647       Credit card    No  \n",
       "4648  Electronic check   Yes  \n",
       "4649       Credit card   Yes  \n",
       "\n",
       "[4364 rows x 12 columns]"
      ]
     },
     "execution_count": 109,
     "metadata": {},
     "output_type": "execute_result"
    }
   ],
   "source": [
    "df"
   ]
  },
  {
   "cell_type": "markdown",
   "id": "5bc4229c",
   "metadata": {},
   "source": [
    "### Bivariate Analysis"
   ]
  },
  {
   "cell_type": "markdown",
   "id": "a2062c8e",
   "metadata": {},
   "source": [
    "##### Categorical - Categorical"
   ]
  },
  {
   "cell_type": "code",
   "execution_count": 110,
   "id": "6110e0e5",
   "metadata": {},
   "outputs": [
    {
     "name": "stdout",
     "output_type": "stream",
     "text": [
      "<class 'pandas.core.frame.DataFrame'>\n",
      "Index: 4364 entries, 0 to 4649\n",
      "Data columns (total 12 columns):\n",
      " #   Column                Non-Null Count  Dtype  \n",
      "---  ------                --------------  -----  \n",
      " 0   CustomerID            4364 non-null   int64  \n",
      " 1   Age                   4364 non-null   float64\n",
      " 2   Gender                4364 non-null   object \n",
      " 3   ContractType_In_days  4364 non-null   int64  \n",
      " 4   MonthlyCharges        4364 non-null   float64\n",
      " 5   TotalCharges          4364 non-null   float64\n",
      " 6   TechSupport           4364 non-null   object \n",
      " 7   InternetService       4364 non-null   object \n",
      " 8   Tenure                4364 non-null   int64  \n",
      " 9   PaperlessBilling      4364 non-null   object \n",
      " 10  PaymentMethod         4364 non-null   object \n",
      " 11  Churn                 4364 non-null   object \n",
      "dtypes: float64(3), int64(3), object(6)\n",
      "memory usage: 443.2+ KB\n"
     ]
    }
   ],
   "source": [
    "df.info()"
   ]
  },
  {
   "cell_type": "markdown",
   "id": "1bf739eb",
   "metadata": {},
   "source": [
    "## Gender and TechSupport\n",
    " --> Females Likes to support the tech"
   ]
  },
  {
   "cell_type": "code",
   "execution_count": 115,
   "id": "55d12cf6",
   "metadata": {},
   "outputs": [
    {
     "data": {
      "text/html": [
       "<div>\n",
       "<style scoped>\n",
       "    .dataframe tbody tr th:only-of-type {\n",
       "        vertical-align: middle;\n",
       "    }\n",
       "\n",
       "    .dataframe tbody tr th {\n",
       "        vertical-align: top;\n",
       "    }\n",
       "\n",
       "    .dataframe thead th {\n",
       "        text-align: right;\n",
       "    }\n",
       "</style>\n",
       "<table border=\"1\" class=\"dataframe\">\n",
       "  <thead>\n",
       "    <tr style=\"text-align: right;\">\n",
       "      <th>TechSupport</th>\n",
       "      <th>No</th>\n",
       "      <th>Yes</th>\n",
       "    </tr>\n",
       "    <tr>\n",
       "      <th>Gender</th>\n",
       "      <th></th>\n",
       "      <th></th>\n",
       "    </tr>\n",
       "  </thead>\n",
       "  <tbody>\n",
       "    <tr>\n",
       "      <th>Female</th>\n",
       "      <td>1090</td>\n",
       "      <td>1137</td>\n",
       "    </tr>\n",
       "    <tr>\n",
       "      <th>Male</th>\n",
       "      <td>1087</td>\n",
       "      <td>1050</td>\n",
       "    </tr>\n",
       "  </tbody>\n",
       "</table>\n",
       "</div>"
      ],
      "text/plain": [
       "TechSupport    No   Yes\n",
       "Gender                 \n",
       "Female       1090  1137\n",
       "Male         1087  1050"
      ]
     },
     "execution_count": 115,
     "metadata": {},
     "output_type": "execute_result"
    }
   ],
   "source": [
    "pd.crosstab(df.Gender,df.TechSupport)"
   ]
  },
  {
   "cell_type": "code",
   "execution_count": 114,
   "id": "c5133db3",
   "metadata": {
    "scrolled": false
   },
   "outputs": [
    {
     "data": {
      "text/plain": [
       "<Axes: xlabel='TechSupport', ylabel='Gender'>"
      ]
     },
     "execution_count": 114,
     "metadata": {},
     "output_type": "execute_result"
    },
    {
     "data": {
      "image/png": "[encoded data removed]",
      "text/plain": [
       "<Figure size 640x480 with 2 Axes>"
      ]
     },
     "metadata": {},
     "output_type": "display_data"
    }
   ],
   "source": [
    "sns.heatmap(pd.crosstab(df.Gender,df.TechSupport))"
   ]
  },
  {
   "cell_type": "markdown",
   "id": "efd11986",
   "metadata": {},
   "source": [
    "\n",
    "## Gender and InternetService\n"
   ]
  },
  {
   "cell_type": "code",
   "execution_count": 124,
   "id": "c2a74ed8",
   "metadata": {
    "scrolled": true
   },
   "outputs": [
    {
     "data": {
      "text/html": [
       "<div>\n",
       "<style scoped>\n",
       "    .dataframe tbody tr th:only-of-type {\n",
       "        vertical-align: middle;\n",
       "    }\n",
       "\n",
       "    .dataframe tbody tr th {\n",
       "        vertical-align: top;\n",
       "    }\n",
       "\n",
       "    .dataframe thead th {\n",
       "        text-align: right;\n",
       "    }\n",
       "</style>\n",
       "<table border=\"1\" class=\"dataframe\">\n",
       "  <thead>\n",
       "    <tr style=\"text-align: right;\">\n",
       "      <th>InternetService</th>\n",
       "      <th>DSL</th>\n",
       "      <th>Fiber optic</th>\n",
       "      <th>No</th>\n",
       "    </tr>\n",
       "    <tr>\n",
       "      <th>Gender</th>\n",
       "      <th></th>\n",
       "      <th></th>\n",
       "      <th></th>\n",
       "    </tr>\n",
       "  </thead>\n",
       "  <tbody>\n",
       "    <tr>\n",
       "      <th>Female</th>\n",
       "      <td>730</td>\n",
       "      <td>773</td>\n",
       "      <td>724</td>\n",
       "    </tr>\n",
       "    <tr>\n",
       "      <th>Male</th>\n",
       "      <td>745</td>\n",
       "      <td>694</td>\n",
       "      <td>698</td>\n",
       "    </tr>\n",
       "  </tbody>\n",
       "</table>\n",
       "</div>"
      ],
      "text/plain": [
       "InternetService  DSL  Fiber optic   No\n",
       "Gender                                \n",
       "Female           730          773  724\n",
       "Male             745          694  698"
      ]
     },
     "execution_count": 124,
     "metadata": {},
     "output_type": "execute_result"
    }
   ],
   "source": [
    "pd.crosstab(df.Gender,df.InternetService)"
   ]
  },
  {
   "cell_type": "code",
   "execution_count": 125,
   "id": "9727902d",
   "metadata": {},
   "outputs": [
    {
     "name": "stdout",
     "output_type": "stream",
     "text": [
      "<class 'pandas.core.frame.DataFrame'>\n",
      "Index: 4364 entries, 0 to 4649\n",
      "Data columns (total 12 columns):\n",
      " #   Column                Non-Null Count  Dtype  \n",
      "---  ------                --------------  -----  \n",
      " 0   CustomerID            4364 non-null   int64  \n",
      " 1   Age                   4364 non-null   float64\n",
      " 2   Gender                4364 non-null   object \n",
      " 3   ContractType_In_days  4364 non-null   int64  \n",
      " 4   MonthlyCharges        4364 non-null   float64\n",
      " 5   TotalCharges          4364 non-null   float64\n",
      " 6   TechSupport           4364 non-null   object \n",
      " 7   InternetService       4364 non-null   object \n",
      " 8   Tenure                4364 non-null   int64  \n",
      " 9   PaperlessBilling      4364 non-null   object \n",
      " 10  PaymentMethod         4364 non-null   object \n",
      " 11  Churn                 4364 non-null   object \n",
      "dtypes: float64(3), int64(3), object(6)\n",
      "memory usage: 443.2+ KB\n"
     ]
    }
   ],
   "source": [
    "df.info()"
   ]
  },
  {
   "cell_type": "markdown",
   "id": "b75e3345",
   "metadata": {},
   "source": [
    "## Gender and PaymentMethod,PaperlessBilling\n"
   ]
  },
  {
   "cell_type": "code",
   "execution_count": 126,
   "id": "39cbce5e",
   "metadata": {
    "scrolled": true
   },
   "outputs": [
    {
     "data": {
      "text/html": [
       "<div>\n",
       "<style scoped>\n",
       "    .dataframe tbody tr th:only-of-type {\n",
       "        vertical-align: middle;\n",
       "    }\n",
       "\n",
       "    .dataframe tbody tr th {\n",
       "        vertical-align: top;\n",
       "    }\n",
       "\n",
       "    .dataframe thead th {\n",
       "        text-align: right;\n",
       "    }\n",
       "</style>\n",
       "<table border=\"1\" class=\"dataframe\">\n",
       "  <thead>\n",
       "    <tr style=\"text-align: right;\">\n",
       "      <th>PaymentMethod</th>\n",
       "      <th>Bank transfer</th>\n",
       "      <th>Credit card</th>\n",
       "      <th>Electronic check</th>\n",
       "      <th>Mailed check</th>\n",
       "    </tr>\n",
       "    <tr>\n",
       "      <th>Gender</th>\n",
       "      <th></th>\n",
       "      <th></th>\n",
       "      <th></th>\n",
       "      <th></th>\n",
       "    </tr>\n",
       "  </thead>\n",
       "  <tbody>\n",
       "    <tr>\n",
       "      <th>Female</th>\n",
       "      <td>537</td>\n",
       "      <td>557</td>\n",
       "      <td>556</td>\n",
       "      <td>577</td>\n",
       "    </tr>\n",
       "    <tr>\n",
       "      <th>Male</th>\n",
       "      <td>541</td>\n",
       "      <td>531</td>\n",
       "      <td>523</td>\n",
       "      <td>542</td>\n",
       "    </tr>\n",
       "  </tbody>\n",
       "</table>\n",
       "</div>"
      ],
      "text/plain": [
       "PaymentMethod  Bank transfer  Credit card  Electronic check  Mailed check\n",
       "Gender                                                                   \n",
       "Female                   537          557               556           577\n",
       "Male                     541          531               523           542"
      ]
     },
     "execution_count": 126,
     "metadata": {},
     "output_type": "execute_result"
    }
   ],
   "source": [
    "pd.crosstab(df.Gender,df.PaymentMethod)"
   ]
  },
  {
   "cell_type": "code",
   "execution_count": 128,
   "id": "209a923a",
   "metadata": {
    "scrolled": false
   },
   "outputs": [
    {
     "data": {
      "text/plain": [
       "<Axes: xlabel='PaperlessBilling', ylabel='Gender'>"
      ]
     },
     "execution_count": 128,
     "metadata": {},
     "output_type": "execute_result"
    },
    {
     "data": {
      "image/png": "[encoded data removed]",
      "text/plain": [
       "<Figure size 640x480 with 2 Axes>"
      ]
     },
     "metadata": {},
     "output_type": "display_data"
    }
   ],
   "source": [
    "sns.heatmap(pd.crosstab(df.Gender,df.PaperlessBilling),annot=True)"
   ]
  },
  {
   "cell_type": "markdown",
   "id": "7531ba40",
   "metadata": {},
   "source": [
    "## Churn and Gender\n",
    "\n",
    "    --> Generally females are not statisfied with the services provided by the company"
   ]
  },
  {
   "cell_type": "code",
   "execution_count": 155,
   "id": "d8a92ba1",
   "metadata": {},
   "outputs": [
    {
     "data": {
      "text/html": [
       "<div>\n",
       "<style scoped>\n",
       "    .dataframe tbody tr th:only-of-type {\n",
       "        vertical-align: middle;\n",
       "    }\n",
       "\n",
       "    .dataframe tbody tr th {\n",
       "        vertical-align: top;\n",
       "    }\n",
       "\n",
       "    .dataframe thead th {\n",
       "        text-align: right;\n",
       "    }\n",
       "</style>\n",
       "<table border=\"1\" class=\"dataframe\">\n",
       "  <thead>\n",
       "    <tr style=\"text-align: right;\">\n",
       "      <th>Gender</th>\n",
       "      <th>Female</th>\n",
       "      <th>Male</th>\n",
       "    </tr>\n",
       "    <tr>\n",
       "      <th>Churn</th>\n",
       "      <th></th>\n",
       "      <th></th>\n",
       "    </tr>\n",
       "  </thead>\n",
       "  <tbody>\n",
       "    <tr>\n",
       "      <th>No</th>\n",
       "      <td>1092</td>\n",
       "      <td>1039</td>\n",
       "    </tr>\n",
       "    <tr>\n",
       "      <th>Yes</th>\n",
       "      <td>1135</td>\n",
       "      <td>1098</td>\n",
       "    </tr>\n",
       "  </tbody>\n",
       "</table>\n",
       "</div>"
      ],
      "text/plain": [
       "Gender  Female  Male\n",
       "Churn               \n",
       "No        1092  1039\n",
       "Yes       1135  1098"
      ]
     },
     "execution_count": 155,
     "metadata": {},
     "output_type": "execute_result"
    }
   ],
   "source": [
    "pd.crosstab(df.Churn,df.Gender)"
   ]
  },
  {
   "cell_type": "markdown",
   "id": "363ff25d",
   "metadata": {},
   "source": [
    "#####  Numerical - Categorical"
   ]
  },
  {
   "cell_type": "code",
   "execution_count": 129,
   "id": "f2ada111",
   "metadata": {
    "scrolled": false
   },
   "outputs": [
    {
     "name": "stdout",
     "output_type": "stream",
     "text": [
      "<class 'pandas.core.frame.DataFrame'>\n",
      "Index: 4364 entries, 0 to 4649\n",
      "Data columns (total 12 columns):\n",
      " #   Column                Non-Null Count  Dtype  \n",
      "---  ------                --------------  -----  \n",
      " 0   CustomerID            4364 non-null   int64  \n",
      " 1   Age                   4364 non-null   float64\n",
      " 2   Gender                4364 non-null   object \n",
      " 3   ContractType_In_days  4364 non-null   int64  \n",
      " 4   MonthlyCharges        4364 non-null   float64\n",
      " 5   TotalCharges          4364 non-null   float64\n",
      " 6   TechSupport           4364 non-null   object \n",
      " 7   InternetService       4364 non-null   object \n",
      " 8   Tenure                4364 non-null   int64  \n",
      " 9   PaperlessBilling      4364 non-null   object \n",
      " 10  PaymentMethod         4364 non-null   object \n",
      " 11  Churn                 4364 non-null   object \n",
      "dtypes: float64(3), int64(3), object(6)\n",
      "memory usage: 443.2+ KB\n"
     ]
    }
   ],
   "source": [
    "df.info()"
   ]
  },
  {
   "cell_type": "markdown",
   "id": "1af1676e",
   "metadata": {},
   "source": [
    "### Gender and Age"
   ]
  },
  {
   "cell_type": "code",
   "execution_count": 137,
   "id": "d604f16f",
   "metadata": {
    "scrolled": false
   },
   "outputs": [
    {
     "data": {
      "text/plain": [
       "<Axes: xlabel='Age', ylabel='Count'>"
      ]
     },
     "execution_count": 137,
     "metadata": {},
     "output_type": "execute_result"
    },
    {
     "data": {
      "image/png": "[encoded data removed]",
      "text/plain": [
       "<Figure size 640x480 with 1 Axes>"
      ]
     },
     "metadata": {},
     "output_type": "display_data"
    }
   ],
   "source": [
    "sns.histplot(data=df,x='Age',hue='Gender')"
   ]
  },
  {
   "cell_type": "code",
   "execution_count": 133,
   "id": "7ff20783",
   "metadata": {
    "scrolled": true
   },
   "outputs": [
    {
     "data": {
      "text/html": [
       "<div>\n",
       "<style scoped>\n",
       "    .dataframe tbody tr th:only-of-type {\n",
       "        vertical-align: middle;\n",
       "    }\n",
       "\n",
       "    .dataframe tbody tr th {\n",
       "        vertical-align: top;\n",
       "    }\n",
       "\n",
       "    .dataframe thead th {\n",
       "        text-align: right;\n",
       "    }\n",
       "</style>\n",
       "<table border=\"1\" class=\"dataframe\">\n",
       "  <thead>\n",
       "    <tr style=\"text-align: right;\">\n",
       "      <th></th>\n",
       "      <th>CustomerID</th>\n",
       "      <th>Age</th>\n",
       "      <th>Gender</th>\n",
       "      <th>ContractType_In_days</th>\n",
       "      <th>MonthlyCharges</th>\n",
       "      <th>TotalCharges</th>\n",
       "      <th>TechSupport</th>\n",
       "      <th>InternetService</th>\n",
       "      <th>Tenure</th>\n",
       "      <th>PaperlessBilling</th>\n",
       "      <th>PaymentMethod</th>\n",
       "      <th>Churn</th>\n",
       "    </tr>\n",
       "  </thead>\n",
       "  <tbody>\n",
       "    <tr>\n",
       "      <th>3607</th>\n",
       "      <td>4406</td>\n",
       "      <td>21.0</td>\n",
       "      <td>Male</td>\n",
       "      <td>30</td>\n",
       "      <td>89.551048</td>\n",
       "      <td>805.959429</td>\n",
       "      <td>Yes</td>\n",
       "      <td>DSL</td>\n",
       "      <td>9</td>\n",
       "      <td>No</td>\n",
       "      <td>Credit card</td>\n",
       "      <td>No</td>\n",
       "    </tr>\n",
       "    <tr>\n",
       "      <th>4179</th>\n",
       "      <td>2011</td>\n",
       "      <td>85.0</td>\n",
       "      <td>Male</td>\n",
       "      <td>730</td>\n",
       "      <td>91.927139</td>\n",
       "      <td>5055.992618</td>\n",
       "      <td>Yes</td>\n",
       "      <td>Fiber optic</td>\n",
       "      <td>55</td>\n",
       "      <td>Yes</td>\n",
       "      <td>Bank transfer</td>\n",
       "      <td>Yes</td>\n",
       "    </tr>\n",
       "    <tr>\n",
       "      <th>4560</th>\n",
       "      <td>3453</td>\n",
       "      <td>46.0</td>\n",
       "      <td>Male</td>\n",
       "      <td>365</td>\n",
       "      <td>118.828859</td>\n",
       "      <td>5347.298652</td>\n",
       "      <td>No</td>\n",
       "      <td>No</td>\n",
       "      <td>45</td>\n",
       "      <td>No</td>\n",
       "      <td>Mailed check</td>\n",
       "      <td>Yes</td>\n",
       "    </tr>\n",
       "    <tr>\n",
       "      <th>3544</th>\n",
       "      <td>2667</td>\n",
       "      <td>36.0</td>\n",
       "      <td>Female</td>\n",
       "      <td>30</td>\n",
       "      <td>47.225436</td>\n",
       "      <td>377.803488</td>\n",
       "      <td>No</td>\n",
       "      <td>No</td>\n",
       "      <td>8</td>\n",
       "      <td>No</td>\n",
       "      <td>Bank transfer</td>\n",
       "      <td>No</td>\n",
       "    </tr>\n",
       "    <tr>\n",
       "      <th>4110</th>\n",
       "      <td>1430</td>\n",
       "      <td>88.0</td>\n",
       "      <td>Female</td>\n",
       "      <td>365</td>\n",
       "      <td>22.864593</td>\n",
       "      <td>297.239711</td>\n",
       "      <td>Yes</td>\n",
       "      <td>Fiber optic</td>\n",
       "      <td>13</td>\n",
       "      <td>Yes</td>\n",
       "      <td>Credit card</td>\n",
       "      <td>Yes</td>\n",
       "    </tr>\n",
       "  </tbody>\n",
       "</table>\n",
       "</div>"
      ],
      "text/plain": [
       "      CustomerID   Age  Gender  ContractType_In_days  MonthlyCharges  \\\n",
       "3607        4406  21.0    Male                    30       89.551048   \n",
       "4179        2011  85.0    Male                   730       91.927139   \n",
       "4560        3453  46.0    Male                   365      118.828859   \n",
       "3544        2667  36.0  Female                    30       47.225436   \n",
       "4110        1430  88.0  Female                   365       22.864593   \n",
       "\n",
       "      TotalCharges TechSupport InternetService  Tenure PaperlessBilling  \\\n",
       "3607    805.959429         Yes             DSL       9               No   \n",
       "4179   5055.992618         Yes     Fiber optic      55              Yes   \n",
       "4560   5347.298652          No              No      45               No   \n",
       "3544    377.803488          No              No       8               No   \n",
       "4110    297.239711         Yes     Fiber optic      13              Yes   \n",
       "\n",
       "      PaymentMethod Churn  \n",
       "3607    Credit card    No  \n",
       "4179  Bank transfer   Yes  \n",
       "4560   Mailed check   Yes  \n",
       "3544  Bank transfer    No  \n",
       "4110    Credit card   Yes  "
      ]
     },
     "execution_count": 133,
     "metadata": {},
     "output_type": "execute_result"
    }
   ],
   "source": [
    "df.sample(5)"
   ]
  },
  {
   "cell_type": "code",
   "execution_count": 138,
   "id": "bcc333b6",
   "metadata": {
    "scrolled": true
   },
   "outputs": [
    {
     "name": "stdout",
     "output_type": "stream",
     "text": [
      "<class 'pandas.core.frame.DataFrame'>\n",
      "Index: 4364 entries, 0 to 4649\n",
      "Data columns (total 12 columns):\n",
      " #   Column                Non-Null Count  Dtype  \n",
      "---  ------                --------------  -----  \n",
      " 0   CustomerID            4364 non-null   int64  \n",
      " 1   Age                   4364 non-null   float64\n",
      " 2   Gender                4364 non-null   object \n",
      " 3   ContractType_In_days  4364 non-null   int64  \n",
      " 4   MonthlyCharges        4364 non-null   float64\n",
      " 5   TotalCharges          4364 non-null   float64\n",
      " 6   TechSupport           4364 non-null   object \n",
      " 7   InternetService       4364 non-null   object \n",
      " 8   Tenure                4364 non-null   int64  \n",
      " 9   PaperlessBilling      4364 non-null   object \n",
      " 10  PaymentMethod         4364 non-null   object \n",
      " 11  Churn                 4364 non-null   object \n",
      "dtypes: float64(3), int64(3), object(6)\n",
      "memory usage: 443.2+ KB\n"
     ]
    }
   ],
   "source": [
    "df.info()"
   ]
  },
  {
   "cell_type": "markdown",
   "id": "0e213f96",
   "metadata": {},
   "source": [
    "### Gender and Contracttype in days\n"
   ]
  },
  {
   "cell_type": "code",
   "execution_count": 144,
   "id": "12179732",
   "metadata": {
    "scrolled": false
   },
   "outputs": [
    {
     "data": {
      "text/plain": [
       "<Axes: xlabel='ContractType_In_days', ylabel='Density'>"
      ]
     },
     "execution_count": 144,
     "metadata": {},
     "output_type": "execute_result"
    },
    {
     "data": {
      "image/png": "[encoded data removed]",
      "text/plain": [
       "<Figure size 640x480 with 1 Axes>"
      ]
     },
     "metadata": {},
     "output_type": "display_data"
    }
   ],
   "source": [
    "sns.kdeplot(data=df,x='ContractType_In_days',hue='Gender')"
   ]
  },
  {
   "cell_type": "markdown",
   "id": "8c003e7d",
   "metadata": {},
   "source": [
    "### TotalCharges and  InternetService\n"
   ]
  },
  {
   "cell_type": "code",
   "execution_count": 150,
   "id": "db29429d",
   "metadata": {},
   "outputs": [
    {
     "data": {
      "text/html": [
       "<div>\n",
       "<style scoped>\n",
       "    .dataframe tbody tr th:only-of-type {\n",
       "        vertical-align: middle;\n",
       "    }\n",
       "\n",
       "    .dataframe tbody tr th {\n",
       "        vertical-align: top;\n",
       "    }\n",
       "\n",
       "    .dataframe thead th {\n",
       "        text-align: right;\n",
       "    }\n",
       "</style>\n",
       "<table border=\"1\" class=\"dataframe\">\n",
       "  <thead>\n",
       "    <tr style=\"text-align: right;\">\n",
       "      <th></th>\n",
       "      <th>TotalCharges</th>\n",
       "    </tr>\n",
       "    <tr>\n",
       "      <th>InternetService</th>\n",
       "      <th></th>\n",
       "    </tr>\n",
       "  </thead>\n",
       "  <tbody>\n",
       "    <tr>\n",
       "      <th>DSL</th>\n",
       "      <td>2427.036222</td>\n",
       "    </tr>\n",
       "    <tr>\n",
       "      <th>Fiber optic</th>\n",
       "      <td>2308.772171</td>\n",
       "    </tr>\n",
       "    <tr>\n",
       "      <th>No</th>\n",
       "      <td>2352.106266</td>\n",
       "    </tr>\n",
       "  </tbody>\n",
       "</table>\n",
       "</div>"
      ],
      "text/plain": [
       "                 TotalCharges\n",
       "InternetService              \n",
       "DSL               2427.036222\n",
       "Fiber optic       2308.772171\n",
       "No                2352.106266"
      ]
     },
     "execution_count": 150,
     "metadata": {},
     "output_type": "execute_result"
    }
   ],
   "source": [
    "df[['InternetService','TotalCharges']].groupby('InternetService').mean()"
   ]
  },
  {
   "cell_type": "code",
   "execution_count": 152,
   "id": "f35cf48a",
   "metadata": {
    "scrolled": false
   },
   "outputs": [
    {
     "data": {
      "text/plain": [
       "<Axes: xlabel='InternetService'>"
      ]
     },
     "execution_count": 152,
     "metadata": {},
     "output_type": "execute_result"
    },
    {
     "data": {
      "image/png": "[encoded data removed]",
      "text/plain": [
       "<Figure size 640x480 with 1 Axes>"
      ]
     },
     "metadata": {},
     "output_type": "display_data"
    }
   ],
   "source": [
    "df[['InternetService','TotalCharges']].groupby('InternetService').mean().plot(kind='bar')"
   ]
  },
  {
   "cell_type": "code",
   "execution_count": 153,
   "id": "50052379",
   "metadata": {
    "scrolled": true
   },
   "outputs": [
    {
     "name": "stdout",
     "output_type": "stream",
     "text": [
      "<class 'pandas.core.frame.DataFrame'>\n",
      "Index: 4364 entries, 0 to 4649\n",
      "Data columns (total 12 columns):\n",
      " #   Column                Non-Null Count  Dtype  \n",
      "---  ------                --------------  -----  \n",
      " 0   CustomerID            4364 non-null   int64  \n",
      " 1   Age                   4364 non-null   float64\n",
      " 2   Gender                4364 non-null   object \n",
      " 3   ContractType_In_days  4364 non-null   int64  \n",
      " 4   MonthlyCharges        4364 non-null   float64\n",
      " 5   TotalCharges          4364 non-null   float64\n",
      " 6   TechSupport           4364 non-null   object \n",
      " 7   InternetService       4364 non-null   object \n",
      " 8   Tenure                4364 non-null   int64  \n",
      " 9   PaperlessBilling      4364 non-null   object \n",
      " 10  PaymentMethod         4364 non-null   object \n",
      " 11  Churn                 4364 non-null   object \n",
      "dtypes: float64(3), int64(3), object(6)\n",
      "memory usage: 443.2+ KB\n"
     ]
    }
   ],
   "source": [
    "df.info()"
   ]
  },
  {
   "cell_type": "markdown",
   "id": "cb366790",
   "metadata": {},
   "source": [
    "## Churn and MonthlyCharges"
   ]
  },
  {
   "cell_type": "code",
   "execution_count": 161,
   "id": "6297dcd2",
   "metadata": {},
   "outputs": [
    {
     "data": {
      "text/plain": [
       "Churn\n",
       "Yes    2233\n",
       "No     2131\n",
       "Name: count, dtype: int64"
      ]
     },
     "execution_count": 161,
     "metadata": {},
     "output_type": "execute_result"
    }
   ],
   "source": [
    "df.Churn.value_counts()"
   ]
  },
  {
   "cell_type": "code",
   "execution_count": 162,
   "id": "5866b816",
   "metadata": {
    "scrolled": false
   },
   "outputs": [
    {
     "data": {
      "text/html": [
       "<div>\n",
       "<style scoped>\n",
       "    .dataframe tbody tr th:only-of-type {\n",
       "        vertical-align: middle;\n",
       "    }\n",
       "\n",
       "    .dataframe tbody tr th {\n",
       "        vertical-align: top;\n",
       "    }\n",
       "\n",
       "    .dataframe thead th {\n",
       "        text-align: right;\n",
       "    }\n",
       "</style>\n",
       "<table border=\"1\" class=\"dataframe\">\n",
       "  <thead>\n",
       "    <tr style=\"text-align: right;\">\n",
       "      <th></th>\n",
       "      <th>MonthlyCharges</th>\n",
       "    </tr>\n",
       "    <tr>\n",
       "      <th>Churn</th>\n",
       "      <th></th>\n",
       "    </tr>\n",
       "  </thead>\n",
       "  <tbody>\n",
       "    <tr>\n",
       "      <th>No</th>\n",
       "      <td>69.526712</td>\n",
       "    </tr>\n",
       "    <tr>\n",
       "      <th>Yes</th>\n",
       "      <td>69.070298</td>\n",
       "    </tr>\n",
       "  </tbody>\n",
       "</table>\n",
       "</div>"
      ],
      "text/plain": [
       "       MonthlyCharges\n",
       "Churn                \n",
       "No          69.526712\n",
       "Yes         69.070298"
      ]
     },
     "execution_count": 162,
     "metadata": {},
     "output_type": "execute_result"
    }
   ],
   "source": [
    "df[['Churn','MonthlyCharges']].groupby('Churn').mean()"
   ]
  },
  {
   "cell_type": "markdown",
   "id": "42a3d68a",
   "metadata": {},
   "source": [
    "## Numerical and Numerical"
   ]
  },
  {
   "cell_type": "code",
   "execution_count": 163,
   "id": "147f1a61",
   "metadata": {
    "scrolled": true
   },
   "outputs": [
    {
     "name": "stdout",
     "output_type": "stream",
     "text": [
      "<class 'pandas.core.frame.DataFrame'>\n",
      "Index: 4364 entries, 0 to 4649\n",
      "Data columns (total 12 columns):\n",
      " #   Column                Non-Null Count  Dtype  \n",
      "---  ------                --------------  -----  \n",
      " 0   CustomerID            4364 non-null   int64  \n",
      " 1   Age                   4364 non-null   float64\n",
      " 2   Gender                4364 non-null   object \n",
      " 3   ContractType_In_days  4364 non-null   int64  \n",
      " 4   MonthlyCharges        4364 non-null   float64\n",
      " 5   TotalCharges          4364 non-null   float64\n",
      " 6   TechSupport           4364 non-null   object \n",
      " 7   InternetService       4364 non-null   object \n",
      " 8   Tenure                4364 non-null   int64  \n",
      " 9   PaperlessBilling      4364 non-null   object \n",
      " 10  PaymentMethod         4364 non-null   object \n",
      " 11  Churn                 4364 non-null   object \n",
      "dtypes: float64(3), int64(3), object(6)\n",
      "memory usage: 443.2+ KB\n"
     ]
    }
   ],
   "source": [
    "df.info()"
   ]
  },
  {
   "cell_type": "code",
   "execution_count": 174,
   "id": "e4373134",
   "metadata": {},
   "outputs": [
    {
     "data": {
      "text/plain": [
       "<Axes: xlabel='TotalCharges', ylabel='Tenure'>"
      ]
     },
     "execution_count": 174,
     "metadata": {},
     "output_type": "execute_result"
    },
    {
     "data": {
      "image/png": "[encoded data removed]",
      "text/plain": [
       "<Figure size 640x480 with 1 Axes>"
      ]
     },
     "metadata": {},
     "output_type": "display_data"
    }
   ],
   "source": [
    "sns.scatterplot(data=df.sample(700),x='TotalCharges',y='Tenure',hue='Gender',style='Churn',size='ContractType_In_days')"
   ]
  },
  {
   "cell_type": "code",
   "execution_count": 175,
   "id": "30e29f5e",
   "metadata": {},
   "outputs": [],
   "source": [
    "data = df"
   ]
  },
  {
   "cell_type": "code",
   "execution_count": 176,
   "id": "0adc7dc1",
   "metadata": {},
   "outputs": [],
   "source": [
    "data.to_csv('EDA_Customer.csv')"
   ]
  }
 ],
 "metadata": {
  "kernelspec": {
   "display_name": "Python 3 (ipykernel)",
   "language": "python",
   "name": "python3"
  },
  "language_info": {
   "codemirror_mode": {
    "name": "ipython",
    "version": 3
   },
   "file_extension": ".py",
   "mimetype": "text/x-python",
   "name": "python",
   "nbconvert_exporter": "python",
   "pygments_lexer": "ipython3",
   "version": "3.11.5"
  }
 },
 "nbformat": 4,
 "nbformat_minor": 5
}
