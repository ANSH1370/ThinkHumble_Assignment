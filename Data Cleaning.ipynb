{
 "cells": [
  {
   "cell_type": "markdown",
   "id": "b1226579",
   "metadata": {},
   "source": [
    "##### This NoteBook Contains the Steps Require to PreProcessing and Data Cleaning the Dataset"
   ]
  },
  {
   "cell_type": "code",
   "execution_count": 1,
   "id": "3dcfe9f5",
   "metadata": {},
   "outputs": [],
   "source": [
    "import pandas as pd\n",
    "import numpy as np\n",
    "import seaborn as sns\n",
    "import matplotlib.pyplot as plt "
   ]
  },
  {
   "cell_type": "code",
   "execution_count": 13,
   "id": "79b9189e",
   "metadata": {},
   "outputs": [],
   "source": [
    "data = pd.read_csv('Customer.csv')"
   ]
  },
  {
   "cell_type": "markdown",
   "id": "c5a0b4af",
   "metadata": {},
   "source": [
    "### Description:-\n",
    "--> `Customer.csv` contains the data regarding the 5000+ Customers who uses the service of a telecom multimedia company\n",
    "     Functionalities.\n",
    "     \n",
    "-->  Data has been generated synthetically\n",
    "\n",
    "-->  Total Columns in Dataset are 12 and names of the columns are:\n",
    "`['CustomerID', 'Age', 'Gender', 'ContractType', 'MonthlyCharges','TotalCharges', 'TechSupport', 'InternetService','Tenure','PaperlessBilling', 'PaymentMethod', 'Churn']`"
   ]
  },
  {
   "cell_type": "code",
   "execution_count": 17,
   "id": "d40f0f43",
   "metadata": {},
   "outputs": [],
   "source": [
    "data.drop(columns=['Unnamed: 0'],inplace=True)"
   ]
  },
  {
   "cell_type": "code",
   "execution_count": 21,
   "id": "42f9cf17",
   "metadata": {
    "scrolled": false
   },
   "outputs": [
    {
     "data": {
      "text/plain": [
       "(5020, 12)"
      ]
     },
     "execution_count": 21,
     "metadata": {},
     "output_type": "execute_result"
    }
   ],
   "source": [
    "data.shape"
   ]
  },
  {
   "cell_type": "code",
   "execution_count": 22,
   "id": "8d94abd8",
   "metadata": {},
   "outputs": [],
   "source": [
    "df = data.copy()"
   ]
  },
  {
   "cell_type": "markdown",
   "id": "f1bbdd63",
   "metadata": {},
   "source": [
    "### Data Cleaning\n"
   ]
  },
  {
   "cell_type": "code",
   "execution_count": 23,
   "id": "c241fdf5",
   "metadata": {
    "scrolled": true
   },
   "outputs": [
    {
     "name": "stdout",
     "output_type": "stream",
     "text": [
      "<class 'pandas.core.frame.DataFrame'>\n",
      "RangeIndex: 5020 entries, 0 to 5019\n",
      "Data columns (total 12 columns):\n",
      " #   Column            Non-Null Count  Dtype  \n",
      "---  ------            --------------  -----  \n",
      " 0   CustomerID        5020 non-null   int64  \n",
      " 1   Age               4920 non-null   float64\n",
      " 2   Gender            4970 non-null   object \n",
      " 3   ContractType      5020 non-null   object \n",
      " 4   MonthlyCharges    5000 non-null   float64\n",
      " 5   TotalCharges      4972 non-null   float64\n",
      " 6   TechSupport       4960 non-null   object \n",
      " 7   InternetService   4980 non-null   object \n",
      " 8   Tenure            5020 non-null   int64  \n",
      " 9   PaperlessBilling  4990 non-null   object \n",
      " 10  PaymentMethod     4990 non-null   object \n",
      " 11  Churn             4970 non-null   object \n",
      "dtypes: float64(3), int64(2), object(7)\n",
      "memory usage: 470.8+ KB\n"
     ]
    }
   ],
   "source": [
    "df.info()"
   ]
  },
  {
   "cell_type": "code",
   "execution_count": 24,
   "id": "7b0fab62",
   "metadata": {
    "scrolled": true
   },
   "outputs": [
    {
     "data": {
      "text/html": [
       "<div>\n",
       "<style scoped>\n",
       "    .dataframe tbody tr th:only-of-type {\n",
       "        vertical-align: middle;\n",
       "    }\n",
       "\n",
       "    .dataframe tbody tr th {\n",
       "        vertical-align: top;\n",
       "    }\n",
       "\n",
       "    .dataframe thead th {\n",
       "        text-align: right;\n",
       "    }\n",
       "</style>\n",
       "<table border=\"1\" class=\"dataframe\">\n",
       "  <thead>\n",
       "    <tr style=\"text-align: right;\">\n",
       "      <th></th>\n",
       "      <th>CustomerID</th>\n",
       "      <th>Age</th>\n",
       "      <th>Gender</th>\n",
       "      <th>ContractType</th>\n",
       "      <th>MonthlyCharges</th>\n",
       "      <th>TotalCharges</th>\n",
       "      <th>TechSupport</th>\n",
       "      <th>InternetService</th>\n",
       "      <th>Tenure</th>\n",
       "      <th>PaperlessBilling</th>\n",
       "      <th>PaymentMethod</th>\n",
       "      <th>Churn</th>\n",
       "    </tr>\n",
       "  </thead>\n",
       "  <tbody>\n",
       "    <tr>\n",
       "      <th>3415</th>\n",
       "      <td>3352</td>\n",
       "      <td>34.0</td>\n",
       "      <td>Female</td>\n",
       "      <td>Two year</td>\n",
       "      <td>45.967546</td>\n",
       "      <td>91.935091</td>\n",
       "      <td>Yes</td>\n",
       "      <td>Fiber optic</td>\n",
       "      <td>2</td>\n",
       "      <td>No</td>\n",
       "      <td>Credit card</td>\n",
       "      <td>No</td>\n",
       "    </tr>\n",
       "    <tr>\n",
       "      <th>114</th>\n",
       "      <td>249</td>\n",
       "      <td>39.0</td>\n",
       "      <td>Female</td>\n",
       "      <td>Month-to-month</td>\n",
       "      <td>46.369826</td>\n",
       "      <td>3245.887788</td>\n",
       "      <td>No</td>\n",
       "      <td>DSL</td>\n",
       "      <td>70</td>\n",
       "      <td>Yes</td>\n",
       "      <td>Bank transfer</td>\n",
       "      <td>NaN</td>\n",
       "    </tr>\n",
       "    <tr>\n",
       "      <th>809</th>\n",
       "      <td>3009</td>\n",
       "      <td>75.0</td>\n",
       "      <td>Male</td>\n",
       "      <td>One year</td>\n",
       "      <td>38.521572</td>\n",
       "      <td>2234.251165</td>\n",
       "      <td>Yes</td>\n",
       "      <td>No</td>\n",
       "      <td>58</td>\n",
       "      <td>Yes</td>\n",
       "      <td>Bank transfer</td>\n",
       "      <td>Yes</td>\n",
       "    </tr>\n",
       "    <tr>\n",
       "      <th>667</th>\n",
       "      <td>92</td>\n",
       "      <td>89.0</td>\n",
       "      <td>Female</td>\n",
       "      <td>Month-to-month</td>\n",
       "      <td>47.122152</td>\n",
       "      <td>848.198737</td>\n",
       "      <td>Yes</td>\n",
       "      <td>Fiber optic</td>\n",
       "      <td>18</td>\n",
       "      <td>Yes</td>\n",
       "      <td>Electronic check</td>\n",
       "      <td>Yes</td>\n",
       "    </tr>\n",
       "    <tr>\n",
       "      <th>1774</th>\n",
       "      <td>60</td>\n",
       "      <td>61.0</td>\n",
       "      <td>Female</td>\n",
       "      <td>Month-to-month</td>\n",
       "      <td>89.072289</td>\n",
       "      <td>5522.481944</td>\n",
       "      <td>No</td>\n",
       "      <td>No</td>\n",
       "      <td>62</td>\n",
       "      <td>No</td>\n",
       "      <td>Credit card</td>\n",
       "      <td>No</td>\n",
       "    </tr>\n",
       "    <tr>\n",
       "      <th>1995</th>\n",
       "      <td>3804</td>\n",
       "      <td>81.0</td>\n",
       "      <td>Female</td>\n",
       "      <td>Two year</td>\n",
       "      <td>101.928504</td>\n",
       "      <td>5809.924732</td>\n",
       "      <td>No</td>\n",
       "      <td>Fiber optic</td>\n",
       "      <td>57</td>\n",
       "      <td>No</td>\n",
       "      <td>Mailed check</td>\n",
       "      <td>No</td>\n",
       "    </tr>\n",
       "    <tr>\n",
       "      <th>2378</th>\n",
       "      <td>50</td>\n",
       "      <td>NaN</td>\n",
       "      <td>Male</td>\n",
       "      <td>Two year</td>\n",
       "      <td>105.698381</td>\n",
       "      <td>4650.728745</td>\n",
       "      <td>Yes</td>\n",
       "      <td>No</td>\n",
       "      <td>44</td>\n",
       "      <td>No</td>\n",
       "      <td>Electronic check</td>\n",
       "      <td>No</td>\n",
       "    </tr>\n",
       "    <tr>\n",
       "      <th>2553</th>\n",
       "      <td>4162</td>\n",
       "      <td>72.0</td>\n",
       "      <td>Female</td>\n",
       "      <td>Two year</td>\n",
       "      <td>35.885208</td>\n",
       "      <td>2368.423703</td>\n",
       "      <td>Yes</td>\n",
       "      <td>DSL</td>\n",
       "      <td>66</td>\n",
       "      <td>Yes</td>\n",
       "      <td>Mailed check</td>\n",
       "      <td>Yes</td>\n",
       "    </tr>\n",
       "    <tr>\n",
       "      <th>1960</th>\n",
       "      <td>807</td>\n",
       "      <td>26.0</td>\n",
       "      <td>Female</td>\n",
       "      <td>Two year</td>\n",
       "      <td>85.457651</td>\n",
       "      <td>4358.340222</td>\n",
       "      <td>No</td>\n",
       "      <td>No</td>\n",
       "      <td>51</td>\n",
       "      <td>No</td>\n",
       "      <td>Bank transfer</td>\n",
       "      <td>No</td>\n",
       "    </tr>\n",
       "    <tr>\n",
       "      <th>2505</th>\n",
       "      <td>4609</td>\n",
       "      <td>88.0</td>\n",
       "      <td>Female</td>\n",
       "      <td>Month-to-month</td>\n",
       "      <td>72.221368</td>\n",
       "      <td>4766.610286</td>\n",
       "      <td>Yes</td>\n",
       "      <td>No</td>\n",
       "      <td>66</td>\n",
       "      <td>No</td>\n",
       "      <td>Mailed check</td>\n",
       "      <td>No</td>\n",
       "    </tr>\n",
       "  </tbody>\n",
       "</table>\n",
       "</div>"
      ],
      "text/plain": [
       "      CustomerID   Age  Gender    ContractType  MonthlyCharges  TotalCharges  \\\n",
       "3415        3352  34.0  Female        Two year       45.967546     91.935091   \n",
       "114          249  39.0  Female  Month-to-month       46.369826   3245.887788   \n",
       "809         3009  75.0    Male        One year       38.521572   2234.251165   \n",
       "667           92  89.0  Female  Month-to-month       47.122152    848.198737   \n",
       "1774          60  61.0  Female  Month-to-month       89.072289   5522.481944   \n",
       "1995        3804  81.0  Female        Two year      101.928504   5809.924732   \n",
       "2378          50   NaN    Male        Two year      105.698381   4650.728745   \n",
       "2553        4162  72.0  Female        Two year       35.885208   2368.423703   \n",
       "1960         807  26.0  Female        Two year       85.457651   4358.340222   \n",
       "2505        4609  88.0  Female  Month-to-month       72.221368   4766.610286   \n",
       "\n",
       "     TechSupport InternetService  Tenure PaperlessBilling     PaymentMethod  \\\n",
       "3415         Yes     Fiber optic       2               No       Credit card   \n",
       "114           No             DSL      70              Yes     Bank transfer   \n",
       "809          Yes              No      58              Yes     Bank transfer   \n",
       "667          Yes     Fiber optic      18              Yes  Electronic check   \n",
       "1774          No              No      62               No       Credit card   \n",
       "1995          No     Fiber optic      57               No      Mailed check   \n",
       "2378         Yes              No      44               No  Electronic check   \n",
       "2553         Yes             DSL      66              Yes      Mailed check   \n",
       "1960          No              No      51               No     Bank transfer   \n",
       "2505         Yes              No      66               No      Mailed check   \n",
       "\n",
       "     Churn  \n",
       "3415    No  \n",
       "114    NaN  \n",
       "809    Yes  \n",
       "667    Yes  \n",
       "1774    No  \n",
       "1995    No  \n",
       "2378    No  \n",
       "2553   Yes  \n",
       "1960    No  \n",
       "2505    No  "
      ]
     },
     "execution_count": 24,
     "metadata": {},
     "output_type": "execute_result"
    }
   ],
   "source": [
    "df.sample(10)"
   ]
  },
  {
   "cell_type": "markdown",
   "id": "7e0f3f9f",
   "metadata": {},
   "source": [
    "### Handling the missing values except the Churn feature"
   ]
  },
  {
   "cell_type": "code",
   "execution_count": 27,
   "id": "de119053",
   "metadata": {
    "scrolled": true
   },
   "outputs": [
    {
     "name": "stdout",
     "output_type": "stream",
     "text": [
      "<class 'pandas.core.frame.DataFrame'>\n",
      "RangeIndex: 5020 entries, 0 to 5019\n",
      "Data columns (total 12 columns):\n",
      " #   Column            Non-Null Count  Dtype  \n",
      "---  ------            --------------  -----  \n",
      " 0   CustomerID        5020 non-null   int64  \n",
      " 1   Age               4920 non-null   float64\n",
      " 2   Gender            4970 non-null   object \n",
      " 3   ContractType      5020 non-null   object \n",
      " 4   MonthlyCharges    5000 non-null   float64\n",
      " 5   TotalCharges      4972 non-null   float64\n",
      " 6   TechSupport       4960 non-null   object \n",
      " 7   InternetService   4980 non-null   object \n",
      " 8   Tenure            5020 non-null   int64  \n",
      " 9   PaperlessBilling  4990 non-null   object \n",
      " 10  PaymentMethod     4990 non-null   object \n",
      " 11  Churn             4970 non-null   object \n",
      "dtypes: float64(3), int64(2), object(7)\n",
      "memory usage: 470.8+ KB\n"
     ]
    }
   ],
   "source": [
    "df.info()"
   ]
  },
  {
   "cell_type": "code",
   "execution_count": 29,
   "id": "fd5fe35c",
   "metadata": {
    "scrolled": true
   },
   "outputs": [
    {
     "data": {
      "text/html": [
       "<div>\n",
       "<style scoped>\n",
       "    .dataframe tbody tr th:only-of-type {\n",
       "        vertical-align: middle;\n",
       "    }\n",
       "\n",
       "    .dataframe tbody tr th {\n",
       "        vertical-align: top;\n",
       "    }\n",
       "\n",
       "    .dataframe thead th {\n",
       "        text-align: right;\n",
       "    }\n",
       "</style>\n",
       "<table border=\"1\" class=\"dataframe\">\n",
       "  <thead>\n",
       "    <tr style=\"text-align: right;\">\n",
       "      <th></th>\n",
       "      <th>CustomerID</th>\n",
       "      <th>Age</th>\n",
       "      <th>Gender</th>\n",
       "      <th>ContractType</th>\n",
       "      <th>MonthlyCharges</th>\n",
       "      <th>TotalCharges</th>\n",
       "      <th>TechSupport</th>\n",
       "      <th>InternetService</th>\n",
       "      <th>Tenure</th>\n",
       "      <th>PaperlessBilling</th>\n",
       "      <th>PaymentMethod</th>\n",
       "      <th>Churn</th>\n",
       "    </tr>\n",
       "  </thead>\n",
       "  <tbody>\n",
       "    <tr>\n",
       "      <th>117</th>\n",
       "      <td>2155</td>\n",
       "      <td>NaN</td>\n",
       "      <td>Male</td>\n",
       "      <td>One year</td>\n",
       "      <td>44.260702</td>\n",
       "      <td>132.782105</td>\n",
       "      <td>Yes</td>\n",
       "      <td>Fiber optic</td>\n",
       "      <td>3</td>\n",
       "      <td>No</td>\n",
       "      <td>Bank transfer</td>\n",
       "      <td>No</td>\n",
       "    </tr>\n",
       "    <tr>\n",
       "      <th>137</th>\n",
       "      <td>1749</td>\n",
       "      <td>NaN</td>\n",
       "      <td>Female</td>\n",
       "      <td>One year</td>\n",
       "      <td>26.383099</td>\n",
       "      <td>659.577480</td>\n",
       "      <td>Yes</td>\n",
       "      <td>No</td>\n",
       "      <td>25</td>\n",
       "      <td>Yes</td>\n",
       "      <td>Bank transfer</td>\n",
       "      <td>Yes</td>\n",
       "    </tr>\n",
       "    <tr>\n",
       "      <th>185</th>\n",
       "      <td>972</td>\n",
       "      <td>NaN</td>\n",
       "      <td>Male</td>\n",
       "      <td>Two year</td>\n",
       "      <td>71.746555</td>\n",
       "      <td>3802.567434</td>\n",
       "      <td>Yes</td>\n",
       "      <td>Fiber optic</td>\n",
       "      <td>53</td>\n",
       "      <td>No</td>\n",
       "      <td>Electronic check</td>\n",
       "      <td>No</td>\n",
       "    </tr>\n",
       "    <tr>\n",
       "      <th>219</th>\n",
       "      <td>1897</td>\n",
       "      <td>NaN</td>\n",
       "      <td>Female</td>\n",
       "      <td>Two year</td>\n",
       "      <td>79.555070</td>\n",
       "      <td>954.660841</td>\n",
       "      <td>No</td>\n",
       "      <td>DSL</td>\n",
       "      <td>12</td>\n",
       "      <td>Yes</td>\n",
       "      <td>Bank transfer</td>\n",
       "      <td>Yes</td>\n",
       "    </tr>\n",
       "    <tr>\n",
       "      <th>229</th>\n",
       "      <td>1624</td>\n",
       "      <td>NaN</td>\n",
       "      <td>Male</td>\n",
       "      <td>One year</td>\n",
       "      <td>44.681175</td>\n",
       "      <td>89.362349</td>\n",
       "      <td>Yes</td>\n",
       "      <td>DSL</td>\n",
       "      <td>2</td>\n",
       "      <td>No</td>\n",
       "      <td>Electronic check</td>\n",
       "      <td>No</td>\n",
       "    </tr>\n",
       "    <tr>\n",
       "      <th>...</th>\n",
       "      <td>...</td>\n",
       "      <td>...</td>\n",
       "      <td>...</td>\n",
       "      <td>...</td>\n",
       "      <td>...</td>\n",
       "      <td>...</td>\n",
       "      <td>...</td>\n",
       "      <td>...</td>\n",
       "      <td>...</td>\n",
       "      <td>...</td>\n",
       "      <td>...</td>\n",
       "      <td>...</td>\n",
       "    </tr>\n",
       "    <tr>\n",
       "      <th>4821</th>\n",
       "      <td>4320</td>\n",
       "      <td>NaN</td>\n",
       "      <td>Female</td>\n",
       "      <td>Month-to-month</td>\n",
       "      <td>119.865392</td>\n",
       "      <td>7791.250471</td>\n",
       "      <td>Yes</td>\n",
       "      <td>DSL</td>\n",
       "      <td>65</td>\n",
       "      <td>No</td>\n",
       "      <td>Electronic check</td>\n",
       "      <td>Yes</td>\n",
       "    </tr>\n",
       "    <tr>\n",
       "      <th>4826</th>\n",
       "      <td>366</td>\n",
       "      <td>NaN</td>\n",
       "      <td>Male</td>\n",
       "      <td>Two year</td>\n",
       "      <td>99.221590</td>\n",
       "      <td>992.215904</td>\n",
       "      <td>No</td>\n",
       "      <td>Fiber optic</td>\n",
       "      <td>10</td>\n",
       "      <td>No</td>\n",
       "      <td>Credit card</td>\n",
       "      <td>Yes</td>\n",
       "    </tr>\n",
       "    <tr>\n",
       "      <th>4857</th>\n",
       "      <td>1289</td>\n",
       "      <td>NaN</td>\n",
       "      <td>Female</td>\n",
       "      <td>One year</td>\n",
       "      <td>113.489645</td>\n",
       "      <td>7717.295850</td>\n",
       "      <td>Yes</td>\n",
       "      <td>DSL</td>\n",
       "      <td>68</td>\n",
       "      <td>No</td>\n",
       "      <td>Mailed check</td>\n",
       "      <td>Yes</td>\n",
       "    </tr>\n",
       "    <tr>\n",
       "      <th>4991</th>\n",
       "      <td>776</td>\n",
       "      <td>NaN</td>\n",
       "      <td>Female</td>\n",
       "      <td>Two year</td>\n",
       "      <td>88.504518</td>\n",
       "      <td>708.036141</td>\n",
       "      <td>Yes</td>\n",
       "      <td>DSL</td>\n",
       "      <td>8</td>\n",
       "      <td>Yes</td>\n",
       "      <td>Electronic check</td>\n",
       "      <td>Yes</td>\n",
       "    </tr>\n",
       "    <tr>\n",
       "      <th>5003</th>\n",
       "      <td>2212</td>\n",
       "      <td>NaN</td>\n",
       "      <td>Female</td>\n",
       "      <td>One year</td>\n",
       "      <td>52.869739</td>\n",
       "      <td>1744.701378</td>\n",
       "      <td>No</td>\n",
       "      <td>DSL</td>\n",
       "      <td>33</td>\n",
       "      <td>No</td>\n",
       "      <td>Electronic check</td>\n",
       "      <td>Yes</td>\n",
       "    </tr>\n",
       "  </tbody>\n",
       "</table>\n",
       "<p>100 rows × 12 columns</p>\n",
       "</div>"
      ],
      "text/plain": [
       "      CustomerID  Age  Gender    ContractType  MonthlyCharges  TotalCharges  \\\n",
       "117         2155  NaN    Male        One year       44.260702    132.782105   \n",
       "137         1749  NaN  Female        One year       26.383099    659.577480   \n",
       "185          972  NaN    Male        Two year       71.746555   3802.567434   \n",
       "219         1897  NaN  Female        Two year       79.555070    954.660841   \n",
       "229         1624  NaN    Male        One year       44.681175     89.362349   \n",
       "...          ...  ...     ...             ...             ...           ...   \n",
       "4821        4320  NaN  Female  Month-to-month      119.865392   7791.250471   \n",
       "4826         366  NaN    Male        Two year       99.221590    992.215904   \n",
       "4857        1289  NaN  Female        One year      113.489645   7717.295850   \n",
       "4991         776  NaN  Female        Two year       88.504518    708.036141   \n",
       "5003        2212  NaN  Female        One year       52.869739   1744.701378   \n",
       "\n",
       "     TechSupport InternetService  Tenure PaperlessBilling     PaymentMethod  \\\n",
       "117          Yes     Fiber optic       3               No     Bank transfer   \n",
       "137          Yes              No      25              Yes     Bank transfer   \n",
       "185          Yes     Fiber optic      53               No  Electronic check   \n",
       "219           No             DSL      12              Yes     Bank transfer   \n",
       "229          Yes             DSL       2               No  Electronic check   \n",
       "...          ...             ...     ...              ...               ...   \n",
       "4821         Yes             DSL      65               No  Electronic check   \n",
       "4826          No     Fiber optic      10               No       Credit card   \n",
       "4857         Yes             DSL      68               No      Mailed check   \n",
       "4991         Yes             DSL       8              Yes  Electronic check   \n",
       "5003          No             DSL      33               No  Electronic check   \n",
       "\n",
       "     Churn  \n",
       "117     No  \n",
       "137    Yes  \n",
       "185     No  \n",
       "219    Yes  \n",
       "229     No  \n",
       "...    ...  \n",
       "4821   Yes  \n",
       "4826   Yes  \n",
       "4857   Yes  \n",
       "4991   Yes  \n",
       "5003   Yes  \n",
       "\n",
       "[100 rows x 12 columns]"
      ]
     },
     "execution_count": 29,
     "metadata": {},
     "output_type": "execute_result"
    }
   ],
   "source": [
    "# For Age column\n",
    "df[df.Age.isna()]"
   ]
  },
  {
   "cell_type": "code",
   "execution_count": 50,
   "id": "c5672ed7",
   "metadata": {},
   "outputs": [],
   "source": [
    "df = df[~(df.Age.isna())]"
   ]
  },
  {
   "cell_type": "code",
   "execution_count": 51,
   "id": "2f6df830",
   "metadata": {
    "scrolled": true
   },
   "outputs": [
    {
     "name": "stdout",
     "output_type": "stream",
     "text": [
      "<class 'pandas.core.frame.DataFrame'>\n",
      "Index: 4920 entries, 0 to 5019\n",
      "Data columns (total 12 columns):\n",
      " #   Column            Non-Null Count  Dtype  \n",
      "---  ------            --------------  -----  \n",
      " 0   CustomerID        4920 non-null   int64  \n",
      " 1   Age               4920 non-null   float64\n",
      " 2   Gender            4873 non-null   object \n",
      " 3   ContractType      4920 non-null   object \n",
      " 4   MonthlyCharges    4900 non-null   float64\n",
      " 5   TotalCharges      4872 non-null   float64\n",
      " 6   TechSupport       4860 non-null   object \n",
      " 7   InternetService   4880 non-null   object \n",
      " 8   Tenure            4920 non-null   int64  \n",
      " 9   PaperlessBilling  4890 non-null   object \n",
      " 10  PaymentMethod     4891 non-null   object \n",
      " 11  Churn             4870 non-null   object \n",
      "dtypes: float64(3), int64(2), object(7)\n",
      "memory usage: 499.7+ KB\n"
     ]
    }
   ],
   "source": [
    "df.info()"
   ]
  },
  {
   "cell_type": "code",
   "execution_count": 54,
   "id": "c4821a51",
   "metadata": {
    "scrolled": false
   },
   "outputs": [
    {
     "data": {
      "text/plain": [
       "Gender\n",
       "Female    2480\n",
       "Male      2393\n",
       "Name: count, dtype: int64"
      ]
     },
     "execution_count": 54,
     "metadata": {},
     "output_type": "execute_result"
    }
   ],
   "source": [
    "# For Gender Column\n",
    "\n",
    "df.Gender.value_counts()"
   ]
  },
  {
   "cell_type": "code",
   "execution_count": 61,
   "id": "e4987288",
   "metadata": {},
   "outputs": [],
   "source": [
    "temp = df[df.Gender.isna()].index"
   ]
  },
  {
   "cell_type": "code",
   "execution_count": 64,
   "id": "c158e704",
   "metadata": {},
   "outputs": [],
   "source": [
    "df.Gender = df.Gender.fillna(method='ffill')"
   ]
  },
  {
   "cell_type": "code",
   "execution_count": 65,
   "id": "23057e06",
   "metadata": {
    "scrolled": false
   },
   "outputs": [
    {
     "name": "stdout",
     "output_type": "stream",
     "text": [
      "<class 'pandas.core.frame.DataFrame'>\n",
      "Index: 4920 entries, 0 to 5019\n",
      "Data columns (total 12 columns):\n",
      " #   Column            Non-Null Count  Dtype  \n",
      "---  ------            --------------  -----  \n",
      " 0   CustomerID        4920 non-null   int64  \n",
      " 1   Age               4920 non-null   float64\n",
      " 2   Gender            4920 non-null   object \n",
      " 3   ContractType      4920 non-null   object \n",
      " 4   MonthlyCharges    4900 non-null   float64\n",
      " 5   TotalCharges      4872 non-null   float64\n",
      " 6   TechSupport       4860 non-null   object \n",
      " 7   InternetService   4880 non-null   object \n",
      " 8   Tenure            4920 non-null   int64  \n",
      " 9   PaperlessBilling  4890 non-null   object \n",
      " 10  PaymentMethod     4891 non-null   object \n",
      " 11  Churn             4870 non-null   object \n",
      "dtypes: float64(3), int64(2), object(7)\n",
      "memory usage: 628.7+ KB\n"
     ]
    }
   ],
   "source": [
    "df.info()"
   ]
  },
  {
   "cell_type": "code",
   "execution_count": 72,
   "id": "a00af570",
   "metadata": {},
   "outputs": [],
   "source": [
    "# MonthlyCharges  \n",
    "\n",
    "df = df[~(df.MonthlyCharges.isna())]"
   ]
  },
  {
   "cell_type": "code",
   "execution_count": 73,
   "id": "63d94f5e",
   "metadata": {
    "scrolled": true
   },
   "outputs": [
    {
     "name": "stdout",
     "output_type": "stream",
     "text": [
      "<class 'pandas.core.frame.DataFrame'>\n",
      "Index: 4900 entries, 0 to 5019\n",
      "Data columns (total 12 columns):\n",
      " #   Column            Non-Null Count  Dtype  \n",
      "---  ------            --------------  -----  \n",
      " 0   CustomerID        4900 non-null   int64  \n",
      " 1   Age               4900 non-null   float64\n",
      " 2   Gender            4900 non-null   object \n",
      " 3   ContractType      4900 non-null   object \n",
      " 4   MonthlyCharges    4900 non-null   float64\n",
      " 5   TotalCharges      4872 non-null   float64\n",
      " 6   TechSupport       4840 non-null   object \n",
      " 7   InternetService   4860 non-null   object \n",
      " 8   Tenure            4900 non-null   int64  \n",
      " 9   PaperlessBilling  4870 non-null   object \n",
      " 10  PaymentMethod     4872 non-null   object \n",
      " 11  Churn             4850 non-null   object \n",
      "dtypes: float64(3), int64(2), object(7)\n",
      "memory usage: 497.7+ KB\n"
     ]
    }
   ],
   "source": [
    "df.info()"
   ]
  },
  {
   "cell_type": "code",
   "execution_count": 74,
   "id": "45626e1f",
   "metadata": {},
   "outputs": [],
   "source": [
    "# TotalCharges        \n",
    "\n",
    "df = df[~(df.TotalCharges.isna())]"
   ]
  },
  {
   "cell_type": "code",
   "execution_count": 75,
   "id": "932b8b35",
   "metadata": {
    "scrolled": true
   },
   "outputs": [
    {
     "name": "stdout",
     "output_type": "stream",
     "text": [
      "<class 'pandas.core.frame.DataFrame'>\n",
      "Index: 4872 entries, 0 to 5019\n",
      "Data columns (total 12 columns):\n",
      " #   Column            Non-Null Count  Dtype  \n",
      "---  ------            --------------  -----  \n",
      " 0   CustomerID        4872 non-null   int64  \n",
      " 1   Age               4872 non-null   float64\n",
      " 2   Gender            4872 non-null   object \n",
      " 3   ContractType      4872 non-null   object \n",
      " 4   MonthlyCharges    4872 non-null   float64\n",
      " 5   TotalCharges      4872 non-null   float64\n",
      " 6   TechSupport       4812 non-null   object \n",
      " 7   InternetService   4833 non-null   object \n",
      " 8   Tenure            4872 non-null   int64  \n",
      " 9   PaperlessBilling  4843 non-null   object \n",
      " 10  PaymentMethod     4844 non-null   object \n",
      " 11  Churn             4823 non-null   object \n",
      "dtypes: float64(3), int64(2), object(7)\n",
      "memory usage: 494.8+ KB\n"
     ]
    }
   ],
   "source": [
    "df.info()"
   ]
  },
  {
   "cell_type": "code",
   "execution_count": 76,
   "id": "364641ba",
   "metadata": {},
   "outputs": [
    {
     "data": {
      "text/plain": [
       "TechSupport\n",
       "Yes    2414\n",
       "No     2398\n",
       "Name: count, dtype: int64"
      ]
     },
     "execution_count": 76,
     "metadata": {},
     "output_type": "execute_result"
    }
   ],
   "source": [
    "# techsupport\n",
    "\n",
    "df.TechSupport.value_counts()"
   ]
  },
  {
   "cell_type": "code",
   "execution_count": 77,
   "id": "629919f1",
   "metadata": {},
   "outputs": [],
   "source": [
    "df = df[~(df.TechSupport.isna())]"
   ]
  },
  {
   "cell_type": "code",
   "execution_count": 78,
   "id": "eb961717",
   "metadata": {
    "scrolled": true
   },
   "outputs": [
    {
     "name": "stdout",
     "output_type": "stream",
     "text": [
      "<class 'pandas.core.frame.DataFrame'>\n",
      "Index: 4812 entries, 0 to 5019\n",
      "Data columns (total 12 columns):\n",
      " #   Column            Non-Null Count  Dtype  \n",
      "---  ------            --------------  -----  \n",
      " 0   CustomerID        4812 non-null   int64  \n",
      " 1   Age               4812 non-null   float64\n",
      " 2   Gender            4812 non-null   object \n",
      " 3   ContractType      4812 non-null   object \n",
      " 4   MonthlyCharges    4812 non-null   float64\n",
      " 5   TotalCharges      4812 non-null   float64\n",
      " 6   TechSupport       4812 non-null   object \n",
      " 7   InternetService   4773 non-null   object \n",
      " 8   Tenure            4812 non-null   int64  \n",
      " 9   PaperlessBilling  4783 non-null   object \n",
      " 10  PaymentMethod     4785 non-null   object \n",
      " 11  Churn             4764 non-null   object \n",
      "dtypes: float64(3), int64(2), object(7)\n",
      "memory usage: 488.7+ KB\n"
     ]
    }
   ],
   "source": [
    "df.info()"
   ]
  },
  {
   "cell_type": "code",
   "execution_count": 83,
   "id": "af19ea28",
   "metadata": {},
   "outputs": [
    {
     "data": {
      "text/plain": [
       "(39, 12)"
      ]
     },
     "execution_count": 83,
     "metadata": {},
     "output_type": "execute_result"
    }
   ],
   "source": [
    "# For Internetaservice\n",
    "\n",
    "df[df.InternetService.isna()].shape"
   ]
  },
  {
   "cell_type": "code",
   "execution_count": 84,
   "id": "ea399a64",
   "metadata": {},
   "outputs": [],
   "source": [
    "df = df[~(df.InternetService.isna())]"
   ]
  },
  {
   "cell_type": "code",
   "execution_count": 85,
   "id": "006537cd",
   "metadata": {
    "scrolled": true
   },
   "outputs": [
    {
     "name": "stdout",
     "output_type": "stream",
     "text": [
      "<class 'pandas.core.frame.DataFrame'>\n",
      "Index: 4773 entries, 0 to 5019\n",
      "Data columns (total 12 columns):\n",
      " #   Column            Non-Null Count  Dtype  \n",
      "---  ------            --------------  -----  \n",
      " 0   CustomerID        4773 non-null   int64  \n",
      " 1   Age               4773 non-null   float64\n",
      " 2   Gender            4773 non-null   object \n",
      " 3   ContractType      4773 non-null   object \n",
      " 4   MonthlyCharges    4773 non-null   float64\n",
      " 5   TotalCharges      4773 non-null   float64\n",
      " 6   TechSupport       4773 non-null   object \n",
      " 7   InternetService   4773 non-null   object \n",
      " 8   Tenure            4773 non-null   int64  \n",
      " 9   PaperlessBilling  4744 non-null   object \n",
      " 10  PaymentMethod     4747 non-null   object \n",
      " 11  Churn             4726 non-null   object \n",
      "dtypes: float64(3), int64(2), object(7)\n",
      "memory usage: 484.8+ KB\n"
     ]
    }
   ],
   "source": [
    "df.info()"
   ]
  },
  {
   "cell_type": "code",
   "execution_count": 98,
   "id": "a96b1560",
   "metadata": {},
   "outputs": [],
   "source": [
    "# for PaperlessBilling  and  PaymentMethod     \n",
    "\n",
    "df = df[~(df['PaymentMethod'].isna() | df['PaperlessBilling'].isna())]"
   ]
  },
  {
   "cell_type": "code",
   "execution_count": 99,
   "id": "19407bae",
   "metadata": {
    "scrolled": true
   },
   "outputs": [
    {
     "name": "stdout",
     "output_type": "stream",
     "text": [
      "<class 'pandas.core.frame.DataFrame'>\n",
      "Index: 4718 entries, 0 to 5019\n",
      "Data columns (total 12 columns):\n",
      " #   Column            Non-Null Count  Dtype  \n",
      "---  ------            --------------  -----  \n",
      " 0   CustomerID        4718 non-null   int64  \n",
      " 1   Age               4718 non-null   float64\n",
      " 2   Gender            4718 non-null   object \n",
      " 3   ContractType      4718 non-null   object \n",
      " 4   MonthlyCharges    4718 non-null   float64\n",
      " 5   TotalCharges      4718 non-null   float64\n",
      " 6   TechSupport       4718 non-null   object \n",
      " 7   InternetService   4718 non-null   object \n",
      " 8   Tenure            4718 non-null   int64  \n",
      " 9   PaperlessBilling  4718 non-null   object \n",
      " 10  PaymentMethod     4718 non-null   object \n",
      " 11  Churn             4671 non-null   object \n",
      "dtypes: float64(3), int64(2), object(7)\n",
      "memory usage: 479.2+ KB\n"
     ]
    }
   ],
   "source": [
    "df.info()"
   ]
  },
  {
   "cell_type": "code",
   "execution_count": 102,
   "id": "19015f84",
   "metadata": {},
   "outputs": [],
   "source": [
    "# for churn\n",
    "\n",
    "df = df[~(df.Churn.isna())]"
   ]
  },
  {
   "cell_type": "code",
   "execution_count": 103,
   "id": "ce4713ab",
   "metadata": {},
   "outputs": [
    {
     "data": {
      "text/plain": [
       "(4671, 12)"
      ]
     },
     "execution_count": 103,
     "metadata": {},
     "output_type": "execute_result"
    }
   ],
   "source": [
    "df.shape"
   ]
  },
  {
   "cell_type": "code",
   "execution_count": 104,
   "id": "27a12f71",
   "metadata": {
    "scrolled": true
   },
   "outputs": [
    {
     "data": {
      "text/plain": [
       "CustomerID          0\n",
       "Age                 0\n",
       "Gender              0\n",
       "ContractType        0\n",
       "MonthlyCharges      0\n",
       "TotalCharges        0\n",
       "TechSupport         0\n",
       "InternetService     0\n",
       "Tenure              0\n",
       "PaperlessBilling    0\n",
       "PaymentMethod       0\n",
       "Churn               0\n",
       "dtype: int64"
      ]
     },
     "execution_count": 104,
     "metadata": {},
     "output_type": "execute_result"
    }
   ],
   "source": [
    "df.isna().sum()"
   ]
  },
  {
   "cell_type": "code",
   "execution_count": 106,
   "id": "a2b2c85e",
   "metadata": {
    "scrolled": false
   },
   "outputs": [
    {
     "name": "stderr",
     "output_type": "stream",
     "text": [
      "C:\\Users\\Mangukiya Ansh\\AppData\\Local\\Temp\\ipykernel_26216\\3006716147.py:1: SettingWithCopyWarning: \n",
      "A value is trying to be set on a copy of a slice from a DataFrame\n",
      "\n",
      "See the caveats in the documentation: https://pandas.pydata.org/pandas-docs/stable/user_guide/indexing.html#returning-a-view-versus-a-copy\n",
      "  df.drop_duplicates(inplace=True)\n"
     ]
    }
   ],
   "source": [
    "df.drop_duplicates(inplace=True)"
   ]
  },
  {
   "cell_type": "code",
   "execution_count": 107,
   "id": "40fecd6e",
   "metadata": {
    "scrolled": false
   },
   "outputs": [
    {
     "name": "stdout",
     "output_type": "stream",
     "text": [
      "<class 'pandas.core.frame.DataFrame'>\n",
      "Index: 4651 entries, 0 to 5019\n",
      "Data columns (total 12 columns):\n",
      " #   Column            Non-Null Count  Dtype  \n",
      "---  ------            --------------  -----  \n",
      " 0   CustomerID        4651 non-null   int64  \n",
      " 1   Age               4651 non-null   float64\n",
      " 2   Gender            4651 non-null   object \n",
      " 3   ContractType      4651 non-null   object \n",
      " 4   MonthlyCharges    4651 non-null   float64\n",
      " 5   TotalCharges      4651 non-null   float64\n",
      " 6   TechSupport       4651 non-null   object \n",
      " 7   InternetService   4651 non-null   object \n",
      " 8   Tenure            4651 non-null   int64  \n",
      " 9   PaperlessBilling  4651 non-null   object \n",
      " 10  PaymentMethod     4651 non-null   object \n",
      " 11  Churn             4651 non-null   object \n",
      "dtypes: float64(3), int64(2), object(7)\n",
      "memory usage: 472.4+ KB\n"
     ]
    }
   ],
   "source": [
    "df.info()"
   ]
  },
  {
   "cell_type": "code",
   "execution_count": 109,
   "id": "b47f35c4",
   "metadata": {},
   "outputs": [],
   "source": [
    "data = df"
   ]
  },
  {
   "cell_type": "code",
   "execution_count": 110,
   "id": "224d56eb",
   "metadata": {},
   "outputs": [],
   "source": [
    "data.to_csv('Cleaned_Customer.csv')"
   ]
  }
 ],
 "metadata": {
  "kernelspec": {
   "display_name": "Python 3 (ipykernel)",
   "language": "python",
   "name": "python3"
  },
  "language_info": {
   "codemirror_mode": {
    "name": "ipython",
    "version": 3
   },
   "file_extension": ".py",
   "mimetype": "text/x-python",
   "name": "python",
   "nbconvert_exporter": "python",
   "pygments_lexer": "ipython3",
   "version": "3.11.5"
  }
 },
 "nbformat": 4,
 "nbformat_minor": 5
}
